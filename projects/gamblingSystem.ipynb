{
  "nbformat": 4,
  "nbformat_minor": 0,
  "metadata": {
    "colab": {
      "provenance": [],
      "authorship_tag": "ABX9TyMxKonPPUXHFMjmywxnXAyw",
      "include_colab_link": true
    },
    "kernelspec": {
      "name": "python3",
      "display_name": "Python 3"
    },
    "language_info": {
      "name": "python"
    }
  },
  "cells": [
    {
      "cell_type": "markdown",
      "metadata": {
        "id": "view-in-github",
        "colab_type": "text"
      },
      "source": [
        "<a href=\"https://colab.research.google.com/github/michaeledge27/mathModeling/blob/main/projects/gamblingSystem.ipynb\" target=\"_parent\"><img src=\"https://colab.research.google.com/assets/colab-badge.svg\" alt=\"Open In Colab\"/></a>"
      ]
    },
    {
      "cell_type": "code",
      "execution_count": null,
      "metadata": {
        "id": "A-fsdXHmD-bS"
      },
      "outputs": [],
      "source": [
        "import numpy as np\n",
        "import matplotlib as plt\n",
        "import random"
      ]
    },
    {
      "cell_type": "code",
      "source": [
        "wheel_spin = random.randint(0, 37)"
      ],
      "metadata": {
        "id": "jgecdrWsIX0r"
      },
      "execution_count": null,
      "outputs": []
    },
    {
      "cell_type": "code",
      "source": [
        "if wheel_spin < 1 or wheel_spin > 36:     # wheel spin is a 0 or 37\n",
        "    wheel_spin = 'green'\n",
        "elif wheel_spin >= 1 and wheel_spin <= 18:  # wheel spin is between 1 and 18 inclusive\n",
        "    wheel_spin = 'red'\n",
        "elif wheel_spin >= 19 and wheel_spin <= 36:  # wheel spin is between 19 and 36 inclusive\n",
        "    wheel_spin = 'black'"
      ],
      "metadata": {
        "id": "Hb8A909HJl3d"
      },
      "execution_count": null,
      "outputs": []
    },
    {
      "cell_type": "code",
      "source": [
        "bet = ['red', 1]    # make bet on red for $1"
      ],
      "metadata": {
        "id": "WI2wfokHKU6G"
      },
      "execution_count": null,
      "outputs": []
    },
    {
      "cell_type": "code",
      "source": [
        "loss_counter = 0    # keep track of losses"
      ],
      "metadata": {
        "id": "asiqRLItLOcO"
      },
      "execution_count": null,
      "outputs": []
    },
    {
      "cell_type": "code",
      "source": [
        "if wheel_spin == bet[0]:\n",
        "    print('win')\n",
        "else:\n",
        "    loss_counter += 1\n",
        "    bet[1] *= 2   # double your bet\n",
        "    #spin wheel again and bet"
      ],
      "metadata": {
        "id": "QymR2PCMEN00"
      },
      "execution_count": null,
      "outputs": []
    },
    {
      "cell_type": "code",
      "source": [
        "def spin_wheel():\n",
        "    wheel_spin = random.randint(0, 37)\n",
        "    if wheel_spin < 1 or wheel_spin > 36:     # wheel spin is a 0 or 37\n",
        "        color = 'green'\n",
        "    elif wheel_spin >= 1 and wheel_spin <= 18:  # wheel spin is between 1 and 18 inclusive\n",
        "        color = 'red'\n",
        "    elif wheel_spin >= 19 and wheel_spin <= 36:  # wheel spin is between 19 and 36 inclusive\n",
        "        color = 'black'\n",
        "    return wheel_spin, color"
      ],
      "metadata": {
        "id": "s2gL7_ldLXMg"
      },
      "execution_count": null,
      "outputs": []
    },
    {
      "cell_type": "code",
      "source": [
        "spin_wheel()"
      ],
      "metadata": {
        "colab": {
          "base_uri": "https://localhost:8080/"
        },
        "id": "58NUPehNL4m2",
        "outputId": "4bbf7408-4bb9-467b-c35d-1198a7ee34f5"
      },
      "execution_count": null,
      "outputs": [
        {
          "output_type": "execute_result",
          "data": {
            "text/plain": [
              "(8, 'red')"
            ]
          },
          "metadata": {},
          "execution_count": 40
        }
      ]
    },
    {
      "cell_type": "code",
      "source": [],
      "metadata": {
        "id": "e6Vf3bDSMhNd"
      },
      "execution_count": null,
      "outputs": []
    },
    {
      "cell_type": "code",
      "source": [
        "def bet_on(bet_color, bet_amount, max_attempts):\n",
        "    number, spin_color = spin_wheel()\n",
        "    loss_counter = 0\n",
        "    win = False\n",
        "    for _ in range(max_attempts):  # Limit the number of attempts\n",
        "        if bet_color == spin_color:\n",
        "            win = True\n",
        "            return bet_amount, loss_counter\n",
        "        else:\n",
        "            loss_counter += 1\n",
        "            bet_amount *= 2\n",
        "    return bet_amount, loss_counter, win"
      ],
      "metadata": {
        "id": "5K_hGXlAL5YO"
      },
      "execution_count": null,
      "outputs": []
    },
    {
      "cell_type": "code",
      "source": [
        "bet_on('red', 1, 10)"
      ],
      "metadata": {
        "colab": {
          "base_uri": "https://localhost:8080/"
        },
        "id": "o5AANGtnNJ6d",
        "outputId": "a2eda152-8895-4a34-a230-76f256354fca"
      },
      "execution_count": null,
      "outputs": [
        {
          "output_type": "execute_result",
          "data": {
            "text/plain": [
              "(1, 0)"
            ]
          },
          "metadata": {},
          "execution_count": 41
        }
      ]
    },
    {
      "cell_type": "code",
      "source": [],
      "metadata": {
        "id": "GwKRr12xNyFu"
      },
      "execution_count": null,
      "outputs": []
    }
  ]
}