{
  "nbformat": 4,
  "nbformat_minor": 0,
  "metadata": {
    "colab": {
      "provenance": [],
      "include_colab_link": true
    },
    "kernelspec": {
      "name": "python3",
      "display_name": "Python 3"
    },
    "language_info": {
      "name": "python"
    }
  },
  "cells": [
    {
      "cell_type": "markdown",
      "metadata": {
        "id": "view-in-github",
        "colab_type": "text"
      },
      "source": [
        "<a href=\"https://colab.research.google.com/github/michaeledge27/mathModeling/blob/main/projects/permanentProblem.ipynb\" target=\"_parent\"><img src=\"https://colab.research.google.com/assets/colab-badge.svg\" alt=\"Open In Colab\"/></a>"
      ]
    },
    {
      "cell_type": "code",
      "execution_count": 1,
      "metadata": {
        "id": "MZbwJU-GKJrY"
      },
      "outputs": [],
      "source": [
        "import numpy as np\n",
        "import matplotlib.pyplot as plt\n",
        "import random"
      ]
    },
    {
      "cell_type": "code",
      "source": [
        "def permRecurse(row, used, mat):\n",
        "    N = len(mat[0])\n",
        "    v = 0\n",
        "    if row == N:\n",
        "        return 1\n",
        "    else:\n",
        "      for j in range(N):\n",
        "        if (not used[j] and mat[row][j] != 0):\n",
        "          used[j] = True\n",
        "          v += permRecurse(row + 1, used, mat)\n",
        "          used[j] = False\n",
        "      return v"
      ],
      "metadata": {
        "id": "5hmd20xTKmOc"
      },
      "execution_count": 2,
      "outputs": []
    },
    {
      "cell_type": "code",
      "source": [
        "# return the number of ones in a given matrix\n",
        "def onesCount(matrix):\n",
        "    return np.count_nonzero(matrix)"
      ],
      "metadata": {
        "id": "mSmV345KMJdw"
      },
      "execution_count": 3,
      "outputs": []
    },
    {
      "cell_type": "code",
      "source": [
        "def generate_matrix(n: int, m: int):\n",
        "    # generate nxn matrix with all 0's\n",
        "    matrix = np.zeros((n, n), dtype=int)\n",
        "    options = n**2\n",
        "    # randomly select m unique indices from the n**2 options\n",
        "    indices = np.random.choice(options, m, replace=False)\n",
        "    # replace the selected elements of the 0's matrix with 1's\n",
        "    np.put(matrix, indices, 1)\n",
        "    return matrix"
      ],
      "metadata": {
        "id": "iuiBBXbAQgMf"
      },
      "execution_count": 4,
      "outputs": []
    },
    {
      "cell_type": "markdown",
      "source": [
        "# mutation step"
      ],
      "metadata": {
        "id": "DynqVncMBg3R"
      }
    },
    {
      "cell_type": "code",
      "source": [
        "def pick_direction(i, j):\n",
        "    # choose random direction\n",
        "    direction = np.random.choice(['north', 'south', 'east', 'west'])\n",
        "    # handle directions accordingly\n",
        "    if direction == 'north':\n",
        "        i -= 1\n",
        "    elif direction == 'south':\n",
        "        i += 1\n",
        "    elif direction == 'east':\n",
        "        j += 1\n",
        "    elif direction == 'west':\n",
        "        j -= 1\n",
        "    return i, j"
      ],
      "metadata": {
        "id": "dc3n3XJtiFOA"
      },
      "execution_count": 5,
      "outputs": []
    },
    {
      "cell_type": "code",
      "source": [
        "pick_direction(1, 1)"
      ],
      "metadata": {
        "id": "LqoS5utwmGi_",
        "outputId": "a3a173e9-3f13-453f-f557-8fa75528a0fd",
        "colab": {
          "base_uri": "https://localhost:8080/"
        }
      },
      "execution_count": 6,
      "outputs": [
        {
          "output_type": "execute_result",
          "data": {
            "text/plain": [
              "(1, 0)"
            ]
          },
          "metadata": {},
          "execution_count": 6
        }
      ]
    },
    {
      "cell_type": "code",
      "source": [
        "# return random i, j indices\n",
        "def select_element(matrix):\n",
        "    i = np.random.randint(0, len(matrix))\n",
        "    j = np.random.randint(0, len(matrix[0]))\n",
        "    return i, j"
      ],
      "metadata": {
        "id": "3nxT-Ic1jB5X"
      },
      "execution_count": 7,
      "outputs": []
    },
    {
      "cell_type": "code",
      "source": [
        "# check if 2 elements are the same\n",
        "def check_same(element, new_element):\n",
        "    return element == new_element"
      ],
      "metadata": {
        "id": "XP6l8_E4jQmf"
      },
      "execution_count": 8,
      "outputs": []
    },
    {
      "cell_type": "code",
      "source": [
        "# return false if at least one of the NSEW neighbors is different\n",
        "def check_all_neighbors(matrix, i, j):\n",
        "    size = len(matrix)\n",
        "    west_neighbor = j - 1 if j > 0 else size - 1\n",
        "    north_neighbor = i - 1 if i > 0 else size - 1\n",
        "    south_neighbor = i + 1 if i < size - 1 else 0\n",
        "    east_neighbor = j + 1 if j < size - 1 else 0\n",
        "    return matrix[i][j] == west_neighbor and matrix[i][j] == north_neighbor and matrix[i][j] == south_neighbor and matrix[i][j] == east_neighbor\n"
      ],
      "metadata": {
        "id": "BqSdtZpljblZ"
      },
      "execution_count": 9,
      "outputs": []
    },
    {
      "cell_type": "code",
      "source": [
        "# perform swap on a matrix with old i, j and new i, j values\n",
        "def perform_swap(matrixA, i, j, new_i, new_j):\n",
        "    matrixA[i][j], matrixA[new_i][new_j] = matrixA[new_i][new_j], matrixA[i][j]\n",
        "    return matrixA\n"
      ],
      "metadata": {
        "id": "DP0Twa7qkhR0"
      },
      "execution_count": 10,
      "outputs": []
    },
    {
      "cell_type": "code",
      "source": [
        "# handle the wraparound capabilities if needed\n",
        "def wraparound_swap(matrixA, i, j, new_i, new_j):\n",
        "    if new_i < 0:               # check if a north neighbor is chosen on an already upmost index\n",
        "        new_i = len(matrixA) - 1\n",
        "    elif new_i >= len(matrixA):  # check if an south neighbor is chosen on an already bottom most index\n",
        "        new_i = 0\n",
        "\n",
        "    if new_j < 0:                # check if a west neighbor is chosen on an already leftmost index\n",
        "        new_j = len(matrixA[0]) - 1\n",
        "    elif new_j >= len(matrixA[0]):    # check if an east neighbor is chosen on an already rightmost index\n",
        "        new_j = 0\n",
        "\n",
        "    matrixA[i][j], matrixA[new_i][new_j] = matrixA[new_i][new_j], matrixA[i][j]\n",
        "    return matrixA"
      ],
      "metadata": {
        "id": "DoRNYKEb6yan"
      },
      "execution_count": 11,
      "outputs": []
    },
    {
      "cell_type": "code",
      "source": [
        "# perform mutation step\n",
        "def mutation(matrix):\n",
        "    # select initial element\n",
        "    i, j = select_element(matrix)\n",
        "    # check if all surrounding neighbors are the same in which case skip the mutation step\n",
        "    if check_all_neighbors(matrix, i, j):\n",
        "        return matrix\n",
        "    else:\n",
        "        # pick random direction\n",
        "        new_i, new_j = pick_direction(i, j)\n",
        "        # check if the new direction is the same value as the current index\n",
        "        if check_same(i, new_i) and check_same(j, new_j):\n",
        "            return matrix\n",
        "        # if a swap can be made, perform it\n",
        "        elif new_i < 0 or new_i >= len(matrix) or new_j < 0 or new_j >= len(matrix[0]):   # perform wraparound if necessary\n",
        "            return wraparound_swap(matrix, i, j, new_i, new_j)\n",
        "        else:\n",
        "            return perform_swap(matrix, i, j, new_i, new_j)   # swap without wraparound\n"
      ],
      "metadata": {
        "id": "kVI2Pa0qhxQI"
      },
      "execution_count": 12,
      "outputs": []
    },
    {
      "cell_type": "code",
      "source": [
        "matrix = generate_matrix(8, 20)\n",
        "matrix"
      ],
      "metadata": {
        "colab": {
          "base_uri": "https://localhost:8080/"
        },
        "id": "kGuKXquHagrb",
        "outputId": "5876b524-a0dc-48a2-f9bb-f7c74ba5dd20"
      },
      "execution_count": 13,
      "outputs": [
        {
          "output_type": "execute_result",
          "data": {
            "text/plain": [
              "array([[0, 1, 0, 1, 0, 0, 1, 0],\n",
              "       [0, 0, 0, 1, 0, 0, 0, 1],\n",
              "       [1, 1, 0, 0, 1, 0, 0, 0],\n",
              "       [0, 0, 0, 1, 0, 1, 0, 0],\n",
              "       [0, 1, 0, 0, 0, 1, 0, 0],\n",
              "       [0, 0, 0, 0, 0, 1, 1, 0],\n",
              "       [0, 1, 0, 0, 0, 1, 1, 1],\n",
              "       [0, 1, 0, 0, 1, 0, 0, 0]])"
            ]
          },
          "metadata": {},
          "execution_count": 13
        }
      ]
    },
    {
      "cell_type": "code",
      "source": [
        "mutation(matrix)"
      ],
      "metadata": {
        "colab": {
          "base_uri": "https://localhost:8080/"
        },
        "id": "dvgLngIlajuf",
        "outputId": "1292f8e1-2e44-4bbf-ea65-6f8e17e918be"
      },
      "execution_count": 14,
      "outputs": [
        {
          "output_type": "execute_result",
          "data": {
            "text/plain": [
              "array([[0, 1, 0, 1, 1, 0, 1, 0],\n",
              "       [0, 0, 0, 1, 0, 0, 0, 1],\n",
              "       [1, 1, 0, 0, 1, 0, 0, 0],\n",
              "       [0, 0, 0, 1, 0, 1, 0, 0],\n",
              "       [0, 1, 0, 0, 0, 1, 0, 0],\n",
              "       [0, 0, 0, 0, 0, 1, 1, 0],\n",
              "       [0, 1, 0, 0, 0, 1, 1, 1],\n",
              "       [0, 1, 0, 0, 0, 0, 0, 0]])"
            ]
          },
          "metadata": {},
          "execution_count": 14
        }
      ]
    },
    {
      "cell_type": "markdown",
      "source": [
        "# crossover step"
      ],
      "metadata": {
        "id": "zHI8GAcSBZXl"
      }
    },
    {
      "cell_type": "code",
      "source": [
        "# handle wraparound for crossover step\n",
        "def wraparound_index(index, size):\n",
        "    return index % size"
      ],
      "metadata": {
        "id": "DasO6sDN7yMK"
      },
      "execution_count": 15,
      "outputs": []
    },
    {
      "cell_type": "code",
      "source": [
        "# take a matrix and turn it into an array\n",
        "def flatten_matrix(matrix):\n",
        "    return matrix.flatten()"
      ],
      "metadata": {
        "id": "6MzTf46R8y0l"
      },
      "execution_count": 16,
      "outputs": []
    },
    {
      "cell_type": "code",
      "source": [
        "# perform crossover swap for array A anad B, returning what swap step we are on\n",
        "def crossover_swap(arrayA, arrayB, index, swap_count, last_swap):\n",
        "    if arrayA[index] == 0 and arrayB[index] == 1 and last_swap != 1:\n",
        "        arrayA[index] = 1\n",
        "        arrayB[index] = 0\n",
        "        swap_count += 1\n",
        "        last_swap = 1\n",
        "    elif arrayA[index] == 1 and arrayB[index] == 0 and last_swap != 2:\n",
        "        arrayA[index] = 0\n",
        "        arrayB[index] = 1\n",
        "        swap_count += 1\n",
        "        last_swap = 2\n",
        "    return swap_count, last_swap"
      ],
      "metadata": {
        "id": "G8njtPgW9E-1"
      },
      "execution_count": 17,
      "outputs": []
    },
    {
      "cell_type": "code",
      "source": [
        "# turn the array back into a matrix\n",
        "def reshape_matrix(array, size):\n",
        "    return array.reshape(size, size)"
      ],
      "metadata": {
        "id": "iI5TDMIS90i1"
      },
      "execution_count": 18,
      "outputs": []
    },
    {
      "cell_type": "code",
      "source": [
        "# perform crossover step for two matrices\n",
        "def crossover(matrixA, matrixB):\n",
        "    attempts = 0\n",
        "    size = len(matrixA)\n",
        "    arrayA = flatten_matrix(matrixA)\n",
        "    arrayB = flatten_matrix(matrixB)\n",
        "    swap_count = 0  # keep track of what swap we're on\n",
        "    start_index = np.random.randint(0, size)    # start at a random index\n",
        "    last_swap = -1          # keep track of last swap\n",
        "    # only performing two swaps\n",
        "    while swap_count < 2:\n",
        "        swap_count, last_swap = crossover_swap(arrayA, arrayB, start_index, swap_count, last_swap)\n",
        "        attempts +=1\n",
        "        index = wraparound_index(start_index + 1, size)\n",
        "        start_index = wraparound_index(start_index + 1, size * size)\n",
        "        # if looped through matrix without finding swaps break\n",
        "        if attempts > size * size:\n",
        "            break\n",
        "\n",
        "    matrixA = reshape_matrix(arrayA, size)\n",
        "    matrixB = reshape_matrix(arrayB, size)\n",
        "    return matrixA, matrixB"
      ],
      "metadata": {
        "id": "eFIRmCVn97dB"
      },
      "execution_count": 19,
      "outputs": []
    },
    {
      "cell_type": "code",
      "source": [
        "def calculate_max_perm(n, m, trials):\n",
        "  permanents = []\n",
        "  for i in range(trials):\n",
        "    matrix = generate_matrix(n, m)\n",
        "    N = len(matrix[0])\n",
        "    used = [False] * N\n",
        "    v = permRecurse(0, used, matrix)\n",
        "    permanents.append(v)\n",
        "  return max(permanents)\n"
      ],
      "metadata": {
        "id": "B6bGcA9uQuzu"
      },
      "execution_count": 20,
      "outputs": []
    },
    {
      "cell_type": "code",
      "source": [
        "calculate_max_perm(8, 20, 1000)"
      ],
      "metadata": {
        "colab": {
          "base_uri": "https://localhost:8080/"
        },
        "id": "akr31-oVSPdH",
        "outputId": "1da6ee03-4d7a-4ac5-9ec1-f6476f32b820"
      },
      "execution_count": 21,
      "outputs": [
        {
          "output_type": "execute_result",
          "data": {
            "text/plain": [
              "13"
            ]
          },
          "metadata": {},
          "execution_count": 21
        }
      ]
    },
    {
      "cell_type": "code",
      "source": [],
      "metadata": {
        "id": "DFKPXMBlSUgZ"
      },
      "execution_count": 20,
      "outputs": []
    },
    {
      "cell_type": "markdown",
      "source": [
        "# genetic algorithm solution"
      ],
      "metadata": {
        "id": "bF3N0PlURGUp"
      }
    },
    {
      "cell_type": "code",
      "source": [
        "def chromosones(n: int, m: int, population: int):\n",
        "    # create a list of chromosones (nxn 0/1 matrices having m 1's)\n",
        "    total_population = []\n",
        "    # generate the population size # of chromosones\n",
        "    for i in range(population):\n",
        "        # generate nxn matrix with m 1's\n",
        "        matrix = generate_matrix(n, m)\n",
        "        total_population.append(matrix)\n",
        "    # return sorted population by highest permanent to lowest\n",
        "    order = []\n",
        "    for chro in total_population:\n",
        "      perm = permRecurse(0, [False] * len(chro[0]), chro)\n",
        "      order.append((perm, chro))\n",
        "    order.sort(key=lambda item: item[0], reverse=True)\n",
        "    return order"
      ],
      "metadata": {
        "id": "wSuaXz_tROrS"
      },
      "execution_count": 21,
      "outputs": []
    },
    {
      "cell_type": "code",
      "source": [],
      "metadata": {
        "id": "WpT5pBjpZVsq"
      },
      "execution_count": 21,
      "outputs": []
    },
    {
      "cell_type": "code",
      "source": [
        "def mutate_or_crossover():\n",
        "    return np.random.choice(['mutate', 'crossover'], p=[0.75, 0.25])"
      ],
      "metadata": {
        "id": "oumRajvnaNPI"
      },
      "execution_count": 22,
      "outputs": []
    },
    {
      "cell_type": "code",
      "source": [
        "def max_perm(trials):\n",
        "    permanent_values = []\n",
        "    for i in range(trials):\n",
        "        matrixA = generate_matrix(6, 18)\n",
        "        matrixB = generate_matrix(6, 18)\n",
        "        if mutate_or_crossover() == 'mutate':\n",
        "            matrixA = mutation(matrixA)\n",
        "            matrixB = mutation(matrixB)\n",
        "            APerm = permRecurse(0, [False] * len(matrixA[0]), matrixA)\n",
        "            BPerm = permRecurse(0, [False] * len(matrixB[0]), matrixB)\n",
        "            if APerm > BPerm:\n",
        "                permanent_values.append((APerm, matrixA))\n",
        "            else:\n",
        "                permanent_values.append((BPerm, matrixB))\n",
        "        else:\n",
        "            matrixA, matrixB = crossover(matrixA, matrixB)\n",
        "            APerm = permRecurse(0, [False] * len(matrixA[0]), matrixA)\n",
        "            BPerm = permRecurse(0, [False] * len(matrixB[0]), matrixB)\n",
        "            if APerm > BPerm:\n",
        "                permanent_values.append((APerm, matrixA))\n",
        "            else:\n",
        "                permanent_values.append((BPerm, matrixB))\n",
        "    return max(permanent_values, key=lambda item: item[0])\n"
      ],
      "metadata": {
        "id": "EDF9v-qVVVEn"
      },
      "execution_count": 23,
      "outputs": []
    },
    {
      "cell_type": "code",
      "source": [
        "max_perm(1000)"
      ],
      "metadata": {
        "colab": {
          "base_uri": "https://localhost:8080/"
        },
        "id": "wek-qqkfbkpx",
        "outputId": "3c58bc90-9e15-443a-ef86-fd3a6c6fb7eb"
      },
      "execution_count": 24,
      "outputs": [
        {
          "output_type": "execute_result",
          "data": {
            "text/plain": [
              "(21,\n",
              " array([[0, 1, 1, 0, 0, 1],\n",
              "        [1, 0, 0, 1, 0, 1],\n",
              "        [1, 0, 0, 1, 1, 0],\n",
              "        [0, 1, 0, 1, 1, 1],\n",
              "        [1, 0, 0, 0, 1, 1],\n",
              "        [0, 1, 1, 0, 0, 0]]))"
            ]
          },
          "metadata": {},
          "execution_count": 24
        }
      ]
    },
    {
      "cell_type": "code",
      "source": [
        "def plot_results(perms, trials, maximum):\n",
        "    trial_numbers = range(1, trials + 1)\n",
        "    plt.figure(figsize=(10, 6))\n",
        "    plt.plot(trial_numbers, perms, linestyle='-')\n",
        "    plt.legend([f\"Maximum Permanent: {maximum}\"], loc='best')\n",
        "    plt.xticks(np.arange(0, trials, trials//10))\n",
        "    plt.xlabel('Trials')\n",
        "    plt.ylabel('Permanent')\n",
        "    plt.title(f'{trials} Trials/iteration')\n",
        "    plt.show()"
      ],
      "metadata": {
        "id": "p-UyxWB7fj9J"
      },
      "execution_count": 25,
      "outputs": []
    },
    {
      "cell_type": "code",
      "source": [
        "def simulation(trials):\n",
        "    permanent_values = []\n",
        "    old_max = 0\n",
        "    plot_values = []\n",
        "    for i in range(trials):\n",
        "        current_max, matrix = max_perm(100)\n",
        "        if current_max > old_max:\n",
        "            old_max = current_max\n",
        "            permanent_values.append((current_max, matrix))\n",
        "        plot_values.append(old_max)\n",
        "    maximum = max(permanent_values, key=lambda item: item[0])\n",
        "    plot_results(plot_values, trials, maximum[0])\n",
        "    return maximum"
      ],
      "metadata": {
        "id": "-D78BrqBb3F-"
      },
      "execution_count": 26,
      "outputs": []
    },
    {
      "cell_type": "code",
      "source": [
        "simulation(1000)"
      ],
      "metadata": {
        "colab": {
          "base_uri": "https://localhost:8080/",
          "height": 686
        },
        "id": "RfQfCn1BdaDI",
        "outputId": "16a5029d-d4ea-4aec-91f9-08b9e8909142"
      },
      "execution_count": 79,
      "outputs": [
        {
          "output_type": "display_data",
          "data": {
            "text/plain": [
              "<Figure size 1000x600 with 1 Axes>"
            ],
            "image/png": "[encoded data removed]"
          },
          "metadata": {}
        },
        {
          "output_type": "execute_result",
          "data": {
            "text/plain": [
              "(24,\n",
              " array([[0, 1, 1, 1, 0, 1],\n",
              "        [1, 0, 0, 0, 1, 0],\n",
              "        [0, 1, 0, 1, 0, 1],\n",
              "        [0, 1, 1, 1, 0, 1],\n",
              "        [1, 0, 0, 0, 1, 0],\n",
              "        [0, 1, 0, 1, 0, 1]]))"
            ]
          },
          "metadata": {},
          "execution_count": 79
        }
      ]
    },
    {
      "cell_type": "code",
      "source": [],
      "metadata": {
        "id": "CAri2jSldb4P"
      },
      "execution_count": 28,
      "outputs": []
    },
    {
      "cell_type": "markdown",
      "source": [
        "# Simulated Annealing Solution"
      ],
      "metadata": {
        "id": "TYEENhKFVHPj"
      }
    },
    {
      "cell_type": "code",
      "source": [],
      "metadata": {
        "id": "ictdquJpiBeO"
      },
      "execution_count": 28,
      "outputs": []
    },
    {
      "cell_type": "code",
      "source": [
        "def swap_rows(matrix):\n",
        "    i = np.random.randint(0, len(matrix))\n",
        "    j = np.random.randint(0, len(matrix))\n",
        "    while i == j:\n",
        "        i = np.random.randint(0, len(matrix))\n",
        "    matrix_copy = matrix.copy()\n",
        "    matrix_copy[i], matrix_copy[j] = matrix[j], matrix[i]\n",
        "    return matrix_copy"
      ],
      "metadata": {
        "id": "NELnQxM1VY2C"
      },
      "execution_count": 27,
      "outputs": []
    },
    {
      "cell_type": "code",
      "source": [
        "def swap_columns(matrix):\n",
        "    i = np.random.randint(0, len(matrix))\n",
        "    j = np.random.randint(0, len(matrix))\n",
        "    while i ==j:\n",
        "        i = np.random.randint(0, len(matrix))\n",
        "    matrix_copy = matrix.copy()\n",
        "    matrix_copy[:, [i, j]] = matrix_copy[:, [j, i]]\n",
        "    return matrix_copy"
      ],
      "metadata": {
        "id": "O6p8v2GEVg8R"
      },
      "execution_count": 28,
      "outputs": []
    },
    {
      "cell_type": "code",
      "source": [
        "def swap_rows_or_columns(matrix):\n",
        "    number = np.random.randint(1, 3)\n",
        "    if number == 1:\n",
        "        return swap_rows(matrix)\n",
        "    else:\n",
        "        return swap_columns(matrix)"
      ],
      "metadata": {
        "id": "WGdNns4IVLRM"
      },
      "execution_count": 29,
      "outputs": []
    },
    {
      "cell_type": "code",
      "source": [
        "def swap_rows_and_columns(matrix):\n",
        "    return swap_rows(swap_columns(matrix))"
      ],
      "metadata": {
        "id": "LRGMeRbRNrGK"
      },
      "execution_count": 30,
      "outputs": []
    },
    {
      "cell_type": "code",
      "source": [
        "# def swap_indices(matrix):\n",
        "#     i = np.random.randint(0, len(matrix))\n",
        "#     j = np.random.randint(0, len(matrix))\n",
        "#     while i == j:\n",
        "#         i = np.random.randint(0, len(matrix))\n",
        "#     if matrix[i][j] == matrix[j][i]:\n",
        "#         return swap_indices(matrix)\n",
        "#     else:\n",
        "#         matrix[i][j], matrix[j][i] = matrix[j][i], matrix[i][j]\n",
        "#         return matrix"
      ],
      "metadata": {
        "id": "Up_LgA2Rc5ZM"
      },
      "execution_count": 31,
      "outputs": []
    },
    {
      "cell_type": "code",
      "source": [
        "def swap_indices(matrix):\n",
        "    n = len(matrix)\n",
        "    # Generate random indices for i and j\n",
        "    i, j = np.random.choice(n, size=2, replace=False)\n",
        "    # Ensure the values at (i, j) and (j, i) are different\n",
        "    while matrix[i][j] == matrix[j][i]:\n",
        "        i, j = np.random.choice(n, size=2, replace=False)\n",
        "    # Swap values\n",
        "    matrix[i][j], matrix[j][i] = matrix[j][i], matrix[i][j]\n",
        "    return matrix"
      ],
      "metadata": {
        "id": "Y9DLtHxRXHqD"
      },
      "execution_count": 32,
      "outputs": []
    },
    {
      "cell_type": "code",
      "source": [
        "matrix = generate_matrix(6, 18)\n",
        "matrix"
      ],
      "metadata": {
        "id": "a3eoY0LZWlVC",
        "outputId": "a7fa5f39-f463-44cf-fb87-1f9dd2f5552f",
        "colab": {
          "base_uri": "https://localhost:8080/"
        }
      },
      "execution_count": 33,
      "outputs": [
        {
          "output_type": "execute_result",
          "data": {
            "text/plain": [
              "array([[0, 0, 1, 0, 1, 0],\n",
              "       [0, 0, 1, 1, 0, 0],\n",
              "       [0, 1, 1, 1, 1, 1],\n",
              "       [0, 0, 0, 1, 1, 0],\n",
              "       [1, 0, 1, 1, 1, 1],\n",
              "       [1, 0, 0, 0, 1, 0]])"
            ]
          },
          "metadata": {},
          "execution_count": 33
        }
      ]
    },
    {
      "cell_type": "code",
      "source": [
        "swap_indices(matrix)"
      ],
      "metadata": {
        "id": "9tOUyF2PWnoE",
        "outputId": "96603f80-9c6b-48d8-9f00-bb151e2f9a6d",
        "colab": {
          "base_uri": "https://localhost:8080/"
        }
      },
      "execution_count": 34,
      "outputs": [
        {
          "output_type": "execute_result",
          "data": {
            "text/plain": [
              "array([[0, 0, 1, 0, 1, 0],\n",
              "       [0, 0, 1, 1, 0, 0],\n",
              "       [0, 1, 1, 1, 1, 0],\n",
              "       [0, 0, 0, 1, 1, 0],\n",
              "       [1, 0, 1, 1, 1, 1],\n",
              "       [1, 0, 1, 0, 1, 0]])"
            ]
          },
          "metadata": {},
          "execution_count": 34
        }
      ]
    },
    {
      "cell_type": "code",
      "source": [
        "def make_swap(matrix):\n",
        "    if calculate_energy(matrix) > 20:\n",
        "        choice = np.random.choice(['both', 'indices'], p=[0.5, 0.5])\n",
        "    else:\n",
        "        choice = np.random.choice(['both', 'indices', 'new_matrix'], p=[0.4, 0.4, 0.2])\n",
        "    if choice == 'both':\n",
        "        return swap_rows_and_columns(matrix)\n",
        "    elif choice == 'indices':\n",
        "        return swap_indices(matrix)\n",
        "    elif choice == 'new_matrix':\n",
        "        return generate_matrix(6, 18)"
      ],
      "metadata": {
        "id": "kUvqikfIqck6"
      },
      "execution_count": 35,
      "outputs": []
    },
    {
      "cell_type": "code",
      "source": [
        "def acceptance_probability(current_energy, new_energy, temperature):\n",
        "    if new_energy > current_energy:\n",
        "        return 1.0\n",
        "    else:\n",
        "        return np.exp((new_energy - current_energy) / temperature)"
      ],
      "metadata": {
        "id": "W0RPrPV0VUPF"
      },
      "execution_count": 36,
      "outputs": []
    },
    {
      "cell_type": "code",
      "source": [
        "def generate_neighbor_state(matrix):\n",
        "    return make_swap(matrix)"
      ],
      "metadata": {
        "id": "dag3mh0tV7Yz"
      },
      "execution_count": 37,
      "outputs": []
    },
    {
      "cell_type": "code",
      "source": [
        "def calculate_energy(matrix):\n",
        "    return permRecurse(0, [False] * len(matrix[0]), matrix)"
      ],
      "metadata": {
        "id": "DpTgxKuJWHVm"
      },
      "execution_count": 38,
      "outputs": []
    },
    {
      "cell_type": "code",
      "source": [
        "def simmulate_annealing(temperature, matrix):\n",
        "    # calculate permanent of starting matrix\n",
        "    current_energy = calculate_energy(matrix)\n",
        "    # generate a neighbor state\n",
        "    neighbor_state = generate_neighbor_state(matrix)\n",
        "    # calculate permanent of neighbor state\n",
        "    new_energy = calculate_energy(neighbor_state)\n",
        "    # calculate acceptance probability (1 if new permanent > old permanent)\n",
        "    prob = acceptance_probability(current_energy, new_energy, temperature)\n",
        "    rand = random.random()\n",
        "    # check if probability is greater than random number\n",
        "    if rand < prob:\n",
        "        # return new state if inside of probability\n",
        "        return neighbor_state, prob\n",
        "    else:\n",
        "        # return previous state if not\n",
        "        return matrix, prob"
      ],
      "metadata": {
        "id": "kmm_C3m_WNPe"
      },
      "execution_count": 39,
      "outputs": []
    },
    {
      "cell_type": "code",
      "source": [
        "def test():\n",
        "    matrix = generate_matrix(8, 20)\n",
        "    for i in range(1000):\n",
        "        neighbor_state, prob, outcome, random = simmulate_annealing(0.001, matrix)\n",
        "        if prob < 1 and random < prob:\n",
        "            return prob, random\n"
      ],
      "metadata": {
        "id": "Q0TkKvkKnUZP"
      },
      "execution_count": 40,
      "outputs": []
    },
    {
      "cell_type": "code",
      "source": [
        "def simulate_the_annealing(n, m):\n",
        "    # generate starting matrix\n",
        "    matrix = generate_matrix(n, m)\n",
        "    # starting temperature\n",
        "    temperature = 5\n",
        "    # keep track of matrices\n",
        "    matrices = []\n",
        "    # keep trak of permanents\n",
        "    permanent_values = []\n",
        "    # keep track of probabilities\n",
        "    probabilities = []\n",
        "    while temperature > 0.0001:\n",
        "        # return a matrix\n",
        "        matrix, prob = simmulate_annealing(temperature, matrix)\n",
        "        # cdalculate permanent of said matrix\n",
        "        permanent_values.append(calculate_energy(matrix))\n",
        "        matrices.append(matrix)\n",
        "        temperature *= 0.95\n",
        "        probabilities.append(prob)\n",
        "    max_perm_index = permanent_values.index(max(permanent_values))\n",
        "    return max(permanent_values), matrices[max_perm_index]"
      ],
      "metadata": {
        "id": "e4SCed0jabtL"
      },
      "execution_count": 41,
      "outputs": []
    },
    {
      "cell_type": "code",
      "source": [
        "simulate_the_annealing(8, 20)"
      ],
      "metadata": {
        "colab": {
          "base_uri": "https://localhost:8080/"
        },
        "id": "ZYhiNh2BbftN",
        "outputId": "09b4e4cc-3303-4100-9e5b-210a5c83d6f4"
      },
      "execution_count": 42,
      "outputs": [
        {
          "output_type": "execute_result",
          "data": {
            "text/plain": [
              "(17,\n",
              " array([[1, 0, 1, 0, 0, 0],\n",
              "        [0, 1, 0, 1, 1, 0],\n",
              "        [1, 1, 1, 0, 0, 0],\n",
              "        [0, 1, 1, 1, 0, 1],\n",
              "        [0, 0, 0, 0, 1, 1],\n",
              "        [1, 0, 0, 1, 1, 1]]))"
            ]
          },
          "metadata": {},
          "execution_count": 42
        }
      ]
    },
    {
      "cell_type": "code",
      "source": [
        "def simmulation(n, m, trials):\n",
        "    permanent_values = []\n",
        "    matrices = []\n",
        "    old_max = 0\n",
        "    plot_values = []\n",
        "    for i in range(trials):\n",
        "        permanent, matrix = simulate_the_annealing(n, m)\n",
        "        permanent_values.append(permanent)\n",
        "        matrices.append(matrix)\n",
        "        if permanent > old_max:\n",
        "            old_max = permanent\n",
        "        plot_values.append(old_max)\n",
        "\n",
        "    plot_results(plot_values, trials, max(permanent_values))\n",
        "    max_perm_index = permanent_values.index(max(permanent_values))\n",
        "    return max(permanent_values), matrices[max_perm_index]"
      ],
      "metadata": {
        "id": "WUyN5GZGbgkY"
      },
      "execution_count": 43,
      "outputs": []
    },
    {
      "cell_type": "code",
      "source": [
        "simmulation(6, 18, 1000)"
      ],
      "metadata": {
        "colab": {
          "base_uri": "https://localhost:8080/",
          "height": 686
        },
        "id": "dzaT0ii4c4zK",
        "outputId": "d45fa01d-fd5b-470c-87e5-49186b74d51f"
      },
      "execution_count": 44,
      "outputs": [
        {
          "output_type": "display_data",
          "data": {
            "text/plain": [
              "<Figure size 1000x600 with 1 Axes>"
            ],
            "image/png": "[encoded data removed]"
          },
          "metadata": {}
        },
        {
          "output_type": "execute_result",
          "data": {
            "text/plain": [
              "(24,\n",
              " array([[1, 1, 1, 0, 0, 1],\n",
              "        [0, 0, 1, 1, 1, 1],\n",
              "        [0, 0, 0, 1, 0, 1],\n",
              "        [1, 1, 1, 0, 0, 0],\n",
              "        [0, 0, 1, 1, 1, 0],\n",
              "        [0, 1, 1, 0, 0, 0]]))"
            ]
          },
          "metadata": {},
          "execution_count": 44
        }
      ]
    },
    {
      "cell_type": "code",
      "source": [],
      "metadata": {
        "id": "SuQCaDbwfccW"
      },
      "execution_count": null,
      "outputs": []
    }
  ]
}