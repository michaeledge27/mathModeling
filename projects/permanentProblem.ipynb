{
  "nbformat": 4,
  "nbformat_minor": 0,
  "metadata": {
    "colab": {
      "provenance": [],
      "include_colab_link": true
    },
    "kernelspec": {
      "name": "python3",
      "display_name": "Python 3"
    },
    "language_info": {
      "name": "python"
    }
  },
  "cells": [
    {
      "cell_type": "markdown",
      "metadata": {
        "id": "view-in-github",
        "colab_type": "text"
      },
      "source": [
        "<a href=\"https://colab.research.google.com/github/michaeledge27/mathModeling/blob/main/projects/permanentProblem.ipynb\" target=\"_parent\"><img src=\"https://colab.research.google.com/assets/colab-badge.svg\" alt=\"Open In Colab\"/></a>"
      ]
    },
    {
      "cell_type": "code",
      "execution_count": 1,
      "metadata": {
        "id": "MZbwJU-GKJrY"
      },
      "outputs": [],
      "source": [
        "import numpy as np\n",
        "import matplotlib.pyplot as plt"
      ]
    },
    {
      "cell_type": "code",
      "source": [
        "def permRecurse(row, used, mat):\n",
        "    N = len(mat[0])\n",
        "    v = 0\n",
        "    if row == N:\n",
        "        return 1\n",
        "    else:\n",
        "      for j in range(N):\n",
        "        if (not used[j] and mat[row][j] != 0):\n",
        "          used[j] = True\n",
        "          v += permRecurse(row + 1, used, mat)\n",
        "          used[j] = False\n",
        "      return v"
      ],
      "metadata": {
        "id": "5hmd20xTKmOc"
      },
      "execution_count": 2,
      "outputs": []
    },
    {
      "cell_type": "code",
      "source": [
        "# return the number of ones in a given matrix\n",
        "def onesCount(matrix):\n",
        "    return np.count_nonzero(matrix)"
      ],
      "metadata": {
        "id": "mSmV345KMJdw"
      },
      "execution_count": 3,
      "outputs": []
    },
    {
      "cell_type": "code",
      "source": [
        "def generate_matrix(n: int, m: int):\n",
        "    # generate nxn matrix with all 0's\n",
        "    matrix = np.zeros((n, n), dtype=int)\n",
        "    options = n**2\n",
        "    # randomly select m unique indices from the n**2 options\n",
        "    indices = np.random.choice(options, m, replace=False)\n",
        "    # replace the selected elements of the 0's matrix with 1's\n",
        "    np.put(matrix, indices, 1)\n",
        "    return matrix"
      ],
      "metadata": {
        "id": "iuiBBXbAQgMf"
      },
      "execution_count": 4,
      "outputs": []
    },
    {
      "cell_type": "markdown",
      "source": [
        "# mutation step"
      ],
      "metadata": {
        "id": "DynqVncMBg3R"
      }
    },
    {
      "cell_type": "code",
      "source": [
        "def pick_direction(i, j):\n",
        "    # choose random direction\n",
        "    direction = np.random.choice(['north', 'south', 'east', 'west'])\n",
        "    # handle directions accordingly\n",
        "    if direction == 'north':\n",
        "        i -= 1\n",
        "    elif direction == 'south':\n",
        "        i += 1\n",
        "    elif direction == 'east':\n",
        "        j += 1\n",
        "    elif direction == 'west':\n",
        "        j -= 1\n",
        "    return i, j"
      ],
      "metadata": {
        "id": "dc3n3XJtiFOA"
      },
      "execution_count": 5,
      "outputs": []
    },
    {
      "cell_type": "code",
      "source": [
        "pick_direction(1, 1)"
      ],
      "metadata": {
        "id": "LqoS5utwmGi_",
        "outputId": "a2953b7e-a6f0-4335-c85e-1ec41e31178d",
        "colab": {
          "base_uri": "https://localhost:8080/"
        }
      },
      "execution_count": 6,
      "outputs": [
        {
          "output_type": "execute_result",
          "data": {
            "text/plain": [
              "(2, 1)"
            ]
          },
          "metadata": {},
          "execution_count": 6
        }
      ]
    },
    {
      "cell_type": "code",
      "source": [
        "# return random i, j indices\n",
        "def select_element(matrix):\n",
        "    i = np.random.randint(0, len(matrix))\n",
        "    j = np.random.randint(0, len(matrix[0]))\n",
        "    return i, j"
      ],
      "metadata": {
        "id": "3nxT-Ic1jB5X"
      },
      "execution_count": 7,
      "outputs": []
    },
    {
      "cell_type": "code",
      "source": [
        "# check if 2 elements are the same\n",
        "def check_same(element, new_element):\n",
        "    return element == new_element"
      ],
      "metadata": {
        "id": "XP6l8_E4jQmf"
      },
      "execution_count": 8,
      "outputs": []
    },
    {
      "cell_type": "code",
      "source": [
        "# return false if at least one of the NSEW neighbors is different\n",
        "def check_all_neighbors(matrix, i, j):\n",
        "    size = len(matrix)\n",
        "    west_neighbor = j - 1 if j > 0 else size - 1\n",
        "    north_neighbor = i - 1 if i > 0 else size - 1\n",
        "    south_neighbor = i + 1 if i < size - 1 else 0\n",
        "    east_neighbor = j + 1 if j < size - 1 else 0\n",
        "    return matrix[i][j] == west_neighbor and matrix[i][j] == north_neighbor and matrix[i][j] == south_neighbor and matrix[i][j] == east_neighbor\n"
      ],
      "metadata": {
        "id": "BqSdtZpljblZ"
      },
      "execution_count": 9,
      "outputs": []
    },
    {
      "cell_type": "code",
      "source": [
        "# perform swap on a matrix with old i, j and new i, j values\n",
        "def perform_swap(matrixA, i, j, new_i, new_j):\n",
        "    matrixA[i][j], matrixA[new_i][new_j] = matrixA[new_i][new_j], matrixA[i][j]\n",
        "    return matrixA\n"
      ],
      "metadata": {
        "id": "DP0Twa7qkhR0"
      },
      "execution_count": 10,
      "outputs": []
    },
    {
      "cell_type": "code",
      "source": [
        "# handle the wraparound capabilities if needed\n",
        "def wraparound_swap(matrixA, i, j, new_i, new_j):\n",
        "    if new_i < 0:               # check if a north neighbor is chosen on an already upmost index\n",
        "        new_i = len(matrixA) - 1\n",
        "    elif new_i >= len(matrixA):  # check if an south neighbor is chosen on an already bottom most index\n",
        "        new_i = 0\n",
        "\n",
        "    if new_j < 0:                # check if a west neighbor is chosen on an already leftmost index\n",
        "        new_j = len(matrixA[0]) - 1\n",
        "    elif new_j >= len(matrixA[0]):    # check if an east neighbor is chosen on an already rightmost index\n",
        "        new_j = 0\n",
        "\n",
        "    matrixA[i][j], matrixA[new_i][new_j] = matrixA[new_i][new_j], matrixA[i][j]\n",
        "    return matrixA"
      ],
      "metadata": {
        "id": "DoRNYKEb6yan"
      },
      "execution_count": 11,
      "outputs": []
    },
    {
      "cell_type": "code",
      "source": [
        "# perform mutation step\n",
        "def mutation(matrix):\n",
        "    # select initial element\n",
        "    i, j = select_element(matrix)\n",
        "    # check if all surrounding neighbors are the same in which case skip the mutation step\n",
        "    if check_all_neighbors(matrix, i, j):\n",
        "        return matrix\n",
        "    else:\n",
        "        # pick random direction\n",
        "        new_i, new_j = pick_direction(i, j)\n",
        "        # check if the new direction is the same value as the current index\n",
        "        if check_same(i, new_i) and check_same(j, new_j):\n",
        "            return matrix\n",
        "        # if a swap can be made, perform it\n",
        "        elif new_i < 0 or new_i >= len(matrix) or new_j < 0 or new_j >= len(matrix[0]):   # perform wraparound if necessary\n",
        "            return wraparound_swap(matrix, i, j, new_i, new_j)\n",
        "        else:\n",
        "            return perform_swap(matrix, i, j, new_i, new_j)   # swap without wraparound\n"
      ],
      "metadata": {
        "id": "kVI2Pa0qhxQI"
      },
      "execution_count": 12,
      "outputs": []
    },
    {
      "cell_type": "code",
      "source": [
        "matrix = generate_matrix(8, 20)\n",
        "matrix"
      ],
      "metadata": {
        "colab": {
          "base_uri": "https://localhost:8080/"
        },
        "id": "kGuKXquHagrb",
        "outputId": "f7a502d1-37b7-4656-f39a-2784442087ed"
      },
      "execution_count": 13,
      "outputs": [
        {
          "output_type": "execute_result",
          "data": {
            "text/plain": [
              "array([[0, 1, 0, 0, 0, 0, 0, 0],\n",
              "       [1, 0, 0, 0, 0, 0, 0, 1],\n",
              "       [0, 0, 1, 0, 0, 1, 1, 1],\n",
              "       [1, 0, 0, 1, 0, 1, 1, 0],\n",
              "       [0, 1, 0, 1, 1, 1, 0, 0],\n",
              "       [1, 0, 0, 0, 0, 0, 0, 0],\n",
              "       [1, 0, 1, 0, 0, 1, 0, 1],\n",
              "       [0, 0, 0, 0, 0, 0, 0, 0]])"
            ]
          },
          "metadata": {},
          "execution_count": 13
        }
      ]
    },
    {
      "cell_type": "code",
      "source": [
        "mutation(matrix)"
      ],
      "metadata": {
        "colab": {
          "base_uri": "https://localhost:8080/"
        },
        "id": "dvgLngIlajuf",
        "outputId": "d24a13f6-acf7-472e-c39a-79079410ee88"
      },
      "execution_count": 14,
      "outputs": [
        {
          "output_type": "execute_result",
          "data": {
            "text/plain": [
              "array([[0, 1, 0, 0, 0, 0, 0, 0],\n",
              "       [1, 0, 0, 0, 0, 0, 0, 1],\n",
              "       [0, 0, 1, 0, 0, 1, 1, 1],\n",
              "       [1, 0, 0, 1, 0, 1, 1, 0],\n",
              "       [0, 1, 0, 1, 1, 1, 0, 0],\n",
              "       [1, 0, 0, 0, 0, 0, 0, 0],\n",
              "       [1, 0, 1, 0, 0, 1, 0, 1],\n",
              "       [0, 0, 0, 0, 0, 0, 0, 0]])"
            ]
          },
          "metadata": {},
          "execution_count": 14
        }
      ]
    },
    {
      "cell_type": "markdown",
      "source": [
        "# crossover step"
      ],
      "metadata": {
        "id": "zHI8GAcSBZXl"
      }
    },
    {
      "cell_type": "code",
      "source": [
        "# handle wraparound for crossover step\n",
        "def wraparound_index(index, size):\n",
        "    return index % size"
      ],
      "metadata": {
        "id": "DasO6sDN7yMK"
      },
      "execution_count": 15,
      "outputs": []
    },
    {
      "cell_type": "code",
      "source": [
        "# take a matrix and turn it into an array\n",
        "def flatten_matrix(matrix):\n",
        "    return matrix.flatten()"
      ],
      "metadata": {
        "id": "6MzTf46R8y0l"
      },
      "execution_count": 16,
      "outputs": []
    },
    {
      "cell_type": "code",
      "source": [
        "# perform crossover swap for array A anad B, returning what swap step we are on\n",
        "def crossover_swap(arrayA, arrayB, index, swap_count, last_swap):\n",
        "    if arrayA[index] == 0 and arrayB[index] == 1 and last_swap != 1:\n",
        "        arrayA[index] = 1\n",
        "        arrayB[index] = 0\n",
        "        swap_count += 1\n",
        "        last_swap = 1\n",
        "    elif arrayA[index] == 1 and arrayB[index] == 0 and last_swap != 2:\n",
        "        arrayA[index] = 0\n",
        "        arrayB[index] = 1\n",
        "        swap_count += 1\n",
        "        last_swap = 2\n",
        "    return swap_count, last_swap"
      ],
      "metadata": {
        "id": "G8njtPgW9E-1"
      },
      "execution_count": 17,
      "outputs": []
    },
    {
      "cell_type": "code",
      "source": [
        "# turn the array back into a matrix\n",
        "def reshape_matrix(array, size):\n",
        "    return array.reshape(size, size)"
      ],
      "metadata": {
        "id": "iI5TDMIS90i1"
      },
      "execution_count": 18,
      "outputs": []
    },
    {
      "cell_type": "code",
      "source": [
        "# perform crossover step for two matrices\n",
        "def crossover(matrixA, matrixB):\n",
        "    attempts = 0\n",
        "    size = len(matrixA)\n",
        "    arrayA = flatten_matrix(matrixA)\n",
        "    arrayB = flatten_matrix(matrixB)\n",
        "    swap_count = 0  # keep track of what swap we're on\n",
        "    start_index = np.random.randint(0, size)    # start at a random index\n",
        "    last_swap = -1          # keep track of last swap\n",
        "    # only performing two swaps\n",
        "    while swap_count < 2:\n",
        "        swap_count, last_swap = crossover_swap(arrayA, arrayB, start_index, swap_count, last_swap)\n",
        "        attempts +=1\n",
        "        index = wraparound_index(start_index + 1, size)\n",
        "        start_index = wraparound_index(start_index + 1, size * size)\n",
        "        # if looped through matrix without finding swaps break\n",
        "        if attempts > size * size:\n",
        "            break\n",
        "\n",
        "    matrixA = reshape_matrix(arrayA, size)\n",
        "    matrixB = reshape_matrix(arrayB, size)\n",
        "    return matrixA, matrixB"
      ],
      "metadata": {
        "id": "eFIRmCVn97dB"
      },
      "execution_count": 19,
      "outputs": []
    },
    {
      "cell_type": "code",
      "source": [
        "def calculate_max_perm(n, m, trials):\n",
        "  permanents = []\n",
        "  for i in range(trials):\n",
        "    matrix = generate_matrix(n, m)\n",
        "    N = len(matrix[0])\n",
        "    used = [False] * N\n",
        "    v = permRecurse(0, used, matrix)\n",
        "    permanents.append(v)\n",
        "  return max(permanents)\n"
      ],
      "metadata": {
        "id": "B6bGcA9uQuzu"
      },
      "execution_count": 20,
      "outputs": []
    },
    {
      "cell_type": "code",
      "source": [
        "calculate_max_perm(8, 20, 1000)"
      ],
      "metadata": {
        "colab": {
          "base_uri": "https://localhost:8080/"
        },
        "id": "akr31-oVSPdH",
        "outputId": "bc4cdbfd-f18b-48f2-c0c7-e4544dcca3fb"
      },
      "execution_count": 21,
      "outputs": [
        {
          "output_type": "execute_result",
          "data": {
            "text/plain": [
              "12"
            ]
          },
          "metadata": {},
          "execution_count": 21
        }
      ]
    },
    {
      "cell_type": "code",
      "source": [],
      "metadata": {
        "id": "DFKPXMBlSUgZ"
      },
      "execution_count": 21,
      "outputs": []
    },
    {
      "cell_type": "markdown",
      "source": [
        "# genetic algorithm solution"
      ],
      "metadata": {
        "id": "bF3N0PlURGUp"
      }
    },
    {
      "cell_type": "code",
      "source": [
        "def chromosones(n: int, m: int, population: int):\n",
        "    # create a list of chromosones (nxn 0/1 matrices having m 1's)\n",
        "    total_population = []\n",
        "    # generate the population size # of chromosones\n",
        "    for i in range(population):\n",
        "        # generate nxn matrix with m 1's\n",
        "        matrix = generate_matrix(n, m)\n",
        "        total_population.append(matrix)\n",
        "    # return sorted population by highest permanent to lowest\n",
        "    order = []\n",
        "    for chro in total_population:\n",
        "      perm = permRecurse(0, [False] * len(chro[0]), chro)\n",
        "      order.append((perm, chro))\n",
        "    order.sort(key=lambda item: item[0], reverse=True)\n",
        "    return order"
      ],
      "metadata": {
        "id": "wSuaXz_tROrS"
      },
      "execution_count": 22,
      "outputs": []
    },
    {
      "cell_type": "code",
      "source": [],
      "metadata": {
        "id": "WpT5pBjpZVsq"
      },
      "execution_count": 22,
      "outputs": []
    },
    {
      "cell_type": "code",
      "source": [
        "def mutate_or_crossover():\n",
        "    return np.random.choice(['mutate', 'crossover'], p=[0.5, 0.5])"
      ],
      "metadata": {
        "id": "oumRajvnaNPI"
      },
      "execution_count": 23,
      "outputs": []
    },
    {
      "cell_type": "code",
      "source": [
        "def max_perm(trials):\n",
        "    permanent_values = []\n",
        "    for i in range(trials):\n",
        "        matrixA = generate_matrix(8, 20)\n",
        "        matrixB = generate_matrix(8, 20)\n",
        "        if mutate_or_crossover() == 'mutate':\n",
        "            matrixA = mutation(matrixA)\n",
        "            matrixB = mutation(matrixB)\n",
        "            APerm = permRecurse(0, [False] * len(matrixA[0]), matrixA)\n",
        "            BPerm = permRecurse(0, [False] * len(matrixB[0]), matrixB)\n",
        "            if APerm > BPerm:\n",
        "                permanent_values.append((APerm, matrixA))\n",
        "            else:\n",
        "                permanent_values.append((BPerm, matrixB))\n",
        "        else:\n",
        "            matrixA, matrixB = crossover(matrixA, matrixB)\n",
        "            APerm = permRecurse(0, [False] * len(matrixA[0]), matrixA)\n",
        "            BPerm = permRecurse(0, [False] * len(matrixB[0]), matrixB)\n",
        "            if APerm > BPerm:\n",
        "                permanent_values.append((APerm, matrixA))\n",
        "            else:\n",
        "                permanent_values.append((BPerm, matrixB))\n",
        "    return max(permanent_values, key=lambda item: item[0])\n"
      ],
      "metadata": {
        "id": "EDF9v-qVVVEn"
      },
      "execution_count": 24,
      "outputs": []
    },
    {
      "cell_type": "code",
      "source": [
        "max_perm(1000)"
      ],
      "metadata": {
        "colab": {
          "base_uri": "https://localhost:8080/"
        },
        "id": "wek-qqkfbkpx",
        "outputId": "abbf0664-8c8d-4a52-f357-efd2ada19220"
      },
      "execution_count": 25,
      "outputs": [
        {
          "output_type": "execute_result",
          "data": {
            "text/plain": [
              "(16,\n",
              " array([[0, 0, 1, 0, 1, 0, 1, 0],\n",
              "        [1, 0, 0, 1, 0, 0, 0, 1],\n",
              "        [1, 0, 0, 0, 1, 0, 0, 1],\n",
              "        [0, 0, 1, 0, 0, 0, 1, 0],\n",
              "        [0, 0, 0, 1, 1, 0, 0, 1],\n",
              "        [0, 0, 0, 1, 0, 1, 0, 1],\n",
              "        [0, 0, 0, 0, 1, 1, 0, 0],\n",
              "        [0, 1, 0, 0, 0, 0, 0, 0]]))"
            ]
          },
          "metadata": {},
          "execution_count": 25
        }
      ]
    },
    {
      "cell_type": "code",
      "source": [
        "def plot_results(perms, trials, maximum):\n",
        "    trial_numbers = range(1, trials + 1)\n",
        "    plt.figure(figsize=(10, 6))\n",
        "    plt.plot(trial_numbers, perms, linestyle='-')\n",
        "    plt.legend([f\"Maximum Permanent: {maximum}\"], loc='best')\n",
        "    plt.xticks(np.arange(0, trials, trials//10))\n",
        "    plt.xlabel('Trials')\n",
        "    plt.ylabel('Permanent')\n",
        "    plt.title('1000 Trials/iteration')\n",
        "    plt.show()"
      ],
      "metadata": {
        "id": "p-UyxWB7fj9J"
      },
      "execution_count": 26,
      "outputs": []
    },
    {
      "cell_type": "code",
      "source": [
        "def simulation(trials):\n",
        "    permanent_values = []\n",
        "    old_max = 0\n",
        "    plot_values = []\n",
        "    for i in range(trials):\n",
        "        current_max, matrix = max_perm(1000)\n",
        "        if current_max > old_max:\n",
        "            old_max = current_max\n",
        "            permanent_values.append((current_max, matrix))\n",
        "        plot_values.append(old_max)\n",
        "    maximum = max(permanent_values, key=lambda item: item[0])\n",
        "    plot_results(plot_values, trials, maximum[0])\n",
        "    return maximum"
      ],
      "metadata": {
        "id": "-D78BrqBb3F-"
      },
      "execution_count": 27,
      "outputs": []
    },
    {
      "cell_type": "code",
      "source": [
        "simulation(1000)"
      ],
      "metadata": {
        "colab": {
          "base_uri": "https://localhost:8080/",
          "height": 725
        },
        "id": "RfQfCn1BdaDI",
        "outputId": "a627326d-21e3-4bb0-cfbb-f09e05b56c98"
      },
      "execution_count": 28,
      "outputs": [
        {
          "output_type": "display_data",
          "data": {
            "text/plain": [
              "<Figure size 1000x600 with 1 Axes>"
            ],
            "image/png": "[encoded data removed]"
          },
          "metadata": {}
        },
        {
          "output_type": "execute_result",
          "data": {
            "text/plain": [
              "(22,\n",
              " array([[1, 1, 1, 0, 0, 0, 0, 0],\n",
              "        [0, 0, 0, 0, 0, 1, 1, 0],\n",
              "        [0, 1, 0, 0, 1, 0, 0, 1],\n",
              "        [1, 1, 0, 0, 0, 0, 0, 1],\n",
              "        [0, 0, 0, 0, 0, 1, 1, 0],\n",
              "        [1, 0, 1, 0, 0, 0, 0, 1],\n",
              "        [1, 0, 0, 0, 1, 0, 0, 1],\n",
              "        [0, 0, 0, 1, 0, 0, 0, 0]]))"
            ]
          },
          "metadata": {},
          "execution_count": 28
        }
      ]
    },
    {
      "cell_type": "code",
      "source": [],
      "metadata": {
        "id": "CAri2jSldb4P"
      },
      "execution_count": 28,
      "outputs": []
    }
  ]
}