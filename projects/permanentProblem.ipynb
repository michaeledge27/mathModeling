{
  "nbformat": 4,
  "nbformat_minor": 0,
  "metadata": {
    "colab": {
      "provenance": [],
      "include_colab_link": true
    },
    "kernelspec": {
      "name": "python3",
      "display_name": "Python 3"
    },
    "language_info": {
      "name": "python"
    }
  },
  "cells": [
    {
      "cell_type": "markdown",
      "metadata": {
        "id": "view-in-github",
        "colab_type": "text"
      },
      "source": [
        "<a href=\"https://colab.research.google.com/github/michaeledge27/mathModeling/blob/main/projects/permanentProblem.ipynb\" target=\"_parent\"><img src=\"https://colab.research.google.com/assets/colab-badge.svg\" alt=\"Open In Colab\"/></a>"
      ]
    },
    {
      "cell_type": "code",
      "execution_count": 80,
      "metadata": {
        "id": "MZbwJU-GKJrY"
      },
      "outputs": [],
      "source": [
        "import numpy as np"
      ]
    },
    {
      "cell_type": "code",
      "source": [
        "def permRecurse(row, used, mat):\n",
        "    N = len(mat[0])\n",
        "    v = 0\n",
        "    if row == N:\n",
        "        return 1\n",
        "    else:\n",
        "      for j in range(N):\n",
        "        if (not used[j] and mat[row][j] != 0):\n",
        "          used[j] = True\n",
        "          v += permRecurse(row + 1, used, mat)\n",
        "          used[j] = False\n",
        "      return v"
      ],
      "metadata": {
        "id": "5hmd20xTKmOc"
      },
      "execution_count": 81,
      "outputs": []
    },
    {
      "cell_type": "code",
      "source": [
        "# return the number of ones in a given matrix\n",
        "def onesCount(matrix):\n",
        "    return np.count_nonzero(matrix)"
      ],
      "metadata": {
        "id": "mSmV345KMJdw"
      },
      "execution_count": 82,
      "outputs": []
    },
    {
      "cell_type": "code",
      "source": [
        "def generate_matrix(n: int, m: int):\n",
        "    # generate nxn matrix with all 0's\n",
        "    matrix = np.zeros((n, n), dtype=int)\n",
        "    options = n**2\n",
        "    # randomly select m unique indices from the n**2 options\n",
        "    indices = np.random.choice(options, m, replace=False)\n",
        "    # replace the selected elements of the 0's matrix with 1's\n",
        "    np.put(matrix, indices, 1)\n",
        "    return matrix"
      ],
      "metadata": {
        "id": "iuiBBXbAQgMf"
      },
      "execution_count": 83,
      "outputs": []
    },
    {
      "cell_type": "code",
      "source": [
        "def chromosones(n: int, m: int, population: int):\n",
        "    # create a list of chromosones (nxn 0/1 matrices having m 1's)\n",
        "    total_population = []\n",
        "    # generate the population size # of chromosones\n",
        "    for i in range(population):\n",
        "        # generate nxn matrix with m 1's\n",
        "        matrix = generate_matrix(n, m)\n",
        "        total_population.append(matrix)\n",
        "    # return population\n",
        "    return total_population"
      ],
      "metadata": {
        "id": "TGsSt233frGX"
      },
      "execution_count": 84,
      "outputs": []
    },
    {
      "cell_type": "code",
      "source": [
        "population = chromosones(8, 20, 3)\n",
        "population[0]\n"
      ],
      "metadata": {
        "id": "U38detLUgYRT",
        "outputId": "2bd413b2-3300-4378-9104-1451020561bf",
        "colab": {
          "base_uri": "https://localhost:8080/"
        }
      },
      "execution_count": 85,
      "outputs": [
        {
          "output_type": "execute_result",
          "data": {
            "text/plain": [
              "array([[0, 0, 0, 1, 1, 0, 0, 0],\n",
              "       [1, 0, 1, 0, 1, 0, 1, 0],\n",
              "       [0, 0, 0, 0, 1, 1, 0, 1],\n",
              "       [0, 0, 0, 1, 1, 1, 0, 0],\n",
              "       [0, 0, 1, 0, 0, 1, 0, 0],\n",
              "       [0, 0, 0, 0, 1, 0, 0, 0],\n",
              "       [0, 1, 0, 1, 1, 0, 0, 1],\n",
              "       [0, 0, 0, 0, 1, 0, 0, 0]])"
            ]
          },
          "metadata": {},
          "execution_count": 85
        }
      ]
    },
    {
      "cell_type": "code",
      "source": [
        "population[0][1]"
      ],
      "metadata": {
        "id": "xGwdVX7RimSs",
        "outputId": "98475c46-e4ec-4050-e0cd-8c103f5ab714",
        "colab": {
          "base_uri": "https://localhost:8080/"
        }
      },
      "execution_count": 86,
      "outputs": [
        {
          "output_type": "execute_result",
          "data": {
            "text/plain": [
              "array([1, 0, 1, 0, 1, 0, 1, 0])"
            ]
          },
          "metadata": {},
          "execution_count": 86
        }
      ]
    },
    {
      "cell_type": "markdown",
      "source": [
        "# mutation step"
      ],
      "metadata": {
        "id": "DynqVncMBg3R"
      }
    },
    {
      "cell_type": "code",
      "source": [
        "def pick_direction(i, j):\n",
        "    # choose random direction\n",
        "    direction = np.random.choice(['north', 'south', 'east', 'west'])\n",
        "    # handle directions accordingly\n",
        "    if direction == 'north':\n",
        "        i -= 1\n",
        "    elif direction == 'south':\n",
        "        i += 1\n",
        "    elif direction == 'east':\n",
        "        j += 1\n",
        "    elif direction == 'west':\n",
        "        j -= 1\n",
        "    return i, j"
      ],
      "metadata": {
        "id": "dc3n3XJtiFOA"
      },
      "execution_count": 87,
      "outputs": []
    },
    {
      "cell_type": "code",
      "source": [
        "pick_direction(1, 1)"
      ],
      "metadata": {
        "id": "LqoS5utwmGi_",
        "outputId": "f4dc0678-bb66-49f6-f317-d0fc67fa8457",
        "colab": {
          "base_uri": "https://localhost:8080/"
        }
      },
      "execution_count": 88,
      "outputs": [
        {
          "output_type": "execute_result",
          "data": {
            "text/plain": [
              "(0, 1)"
            ]
          },
          "metadata": {},
          "execution_count": 88
        }
      ]
    },
    {
      "cell_type": "code",
      "source": [
        "# return random i, j indices\n",
        "def select_element(matrix):\n",
        "    i = np.random.randint(0, len(matrix))\n",
        "    j = np.random.randint(0, len(matrix[0]))\n",
        "    return i, j"
      ],
      "metadata": {
        "id": "3nxT-Ic1jB5X"
      },
      "execution_count": 89,
      "outputs": []
    },
    {
      "cell_type": "code",
      "source": [
        "select_element(population[0])"
      ],
      "metadata": {
        "id": "E07Cy-kWmKcJ",
        "outputId": "f134a7ba-cb22-463f-f7d6-15356fa4e5e4",
        "colab": {
          "base_uri": "https://localhost:8080/"
        }
      },
      "execution_count": 90,
      "outputs": [
        {
          "output_type": "execute_result",
          "data": {
            "text/plain": [
              "(4, 4)"
            ]
          },
          "metadata": {},
          "execution_count": 90
        }
      ]
    },
    {
      "cell_type": "code",
      "source": [
        "# check if 2 elements are the same\n",
        "def check_same(element, new_element):\n",
        "    return element == new_element"
      ],
      "metadata": {
        "id": "XP6l8_E4jQmf"
      },
      "execution_count": 91,
      "outputs": []
    },
    {
      "cell_type": "code",
      "source": [
        "# return false if at least one of the NSEW neighbors is different\n",
        "def check_all_neighbors(matrix, i, j):\n",
        "    return matrix[i][j] == matrix[i-1][j] and matrix[i][j] == matrix[i+1][j] and matrix[i][j] == matrix[i][j-1] and matrix[i][j] == matrix[i][j+1]\n"
      ],
      "metadata": {
        "id": "BqSdtZpljblZ"
      },
      "execution_count": 92,
      "outputs": []
    },
    {
      "cell_type": "code",
      "source": [
        "# perform swap on a matrix with old i, j and new i, j values\n",
        "def perform_swap(matrixA, i, j, new_i, new_j):\n",
        "    matrixA[i][j], matrixA[new_i][new_j] = matrixA[new_i][new_j], matrixA[i][j]\n",
        "    return matrixA\n"
      ],
      "metadata": {
        "id": "DP0Twa7qkhR0"
      },
      "execution_count": 93,
      "outputs": []
    },
    {
      "cell_type": "code",
      "source": [
        "# handle the wraparound capabilities if needed\n",
        "def wraparound_swap(matrixA, i, j, new_i, new_j):\n",
        "    if new_i < 0:               # check if a north neighbor is chosen on an already upmost index\n",
        "        new_i = len(matrixA) - 1\n",
        "    elif new_i >= len(matrixA):  # check if an south neighbor is chosen on an already bottom most index\n",
        "        new_i = 0\n",
        "\n",
        "    if new_j < 0:                # check if a west neighbor is chosen on an already leftmost index\n",
        "        new_j = len(matrixA[0]) - 1\n",
        "    elif new_j >= len(matrixA[0]):    # check if an east neighbor is chosen on an already rightmost index\n",
        "        new_j = 0\n",
        "\n",
        "    matrixA[i][j], matrixA[new_i][new_j] = matrixA[new_i][new_j], matrixA[i][j]\n",
        "    return matrixA"
      ],
      "metadata": {
        "id": "DoRNYKEb6yan"
      },
      "execution_count": 94,
      "outputs": []
    },
    {
      "cell_type": "code",
      "source": [
        "# perform mutation step\n",
        "def mutation(matrixA, matrixB):\n",
        "    # select initial element\n",
        "    i, j = select_element(matrix)\n",
        "    # check if all surrounding neighbors are the same in which case skip the mutation step\n",
        "    if check_all_neighbors(matrix, i, j):\n",
        "        return matrix\n",
        "    else:\n",
        "        # pick random direction\n",
        "        new_i, new_j = pick_direction(i, j)\n",
        "        # check if the new direction is the same value as the current index\n",
        "        if check_same(i, new_i) and check_same(j, new_j):\n",
        "            return matrix\n",
        "        # if a swap can be made, perform it\n",
        "        elif new_i < 0 or new_i >= len(matrix) or new_j < 0 or new_j >= len(matrix[0]):   # perform wraparound if necessary\n",
        "            return wraparound_swap(matrix, i, j, new_i, new_j)\n",
        "        else:\n",
        "            return perform_swap(matrix, i, j, new_i, new_j)   # swap without wraparound\n"
      ],
      "metadata": {
        "id": "kVI2Pa0qhxQI"
      },
      "execution_count": 95,
      "outputs": []
    },
    {
      "cell_type": "markdown",
      "source": [
        "# crossover step"
      ],
      "metadata": {
        "id": "zHI8GAcSBZXl"
      }
    },
    {
      "cell_type": "code",
      "source": [
        "# handle wraparound for crossover step\n",
        "def wraparound_index(index, size):\n",
        "    return index % size"
      ],
      "metadata": {
        "id": "DasO6sDN7yMK"
      },
      "execution_count": 96,
      "outputs": []
    },
    {
      "cell_type": "code",
      "source": [
        "# take a matrix and turn it into an array\n",
        "def flatten_matrix(matrix):\n",
        "    return matrix.flatten()"
      ],
      "metadata": {
        "id": "6MzTf46R8y0l"
      },
      "execution_count": 97,
      "outputs": []
    },
    {
      "cell_type": "code",
      "source": [
        "# perform crossover swap for array A anad B, returning what swap step we are on\n",
        "def crossover_swap(arrayA, arrayB, index, swap_count):\n",
        "    if arrayA[index] == 0 and arrayB[index] == 1:\n",
        "        arrayA[index] = 1\n",
        "        arrayB[index] = 0\n",
        "        swap_count += 1\n",
        "    elif arrayA[index] == 1 and arrayB[index] == 0:\n",
        "        arrayA[index] = 0\n",
        "        arrayB[index] = 1\n",
        "        swap_count += 1\n",
        "    return swap_count"
      ],
      "metadata": {
        "id": "G8njtPgW9E-1"
      },
      "execution_count": 98,
      "outputs": []
    },
    {
      "cell_type": "code",
      "source": [
        "# turn the array back into a matrix\n",
        "def reshape_matrix(array, size):\n",
        "    return array.reshape(size, size)"
      ],
      "metadata": {
        "id": "iI5TDMIS90i1"
      },
      "execution_count": 99,
      "outputs": []
    },
    {
      "cell_type": "code",
      "source": [
        "# perform crossover step for two matrices\n",
        "def crossover(matrixA, matrixB):\n",
        "    max_attempts = 1000\n",
        "    attempts = 0\n",
        "    size = len(matrixA)\n",
        "    arrayA = flatten_matrix(matrixA)\n",
        "    arrayB = flatten_matrix(matrixB)\n",
        "    swap_count = 0  # keep track of what swap we're on\n",
        "    start_index = np.random.randint(0, size)    # start at a random index\n",
        "    # only performing two swaps\n",
        "    while swap_count < 2 and attempts < max_attempts:\n",
        "        swap_count = crossover_swap(arrayA, arrayB, start_index, swap_count)\n",
        "        index = wraparound_index(start_index + 1, size)\n",
        "        attempts += 1\n",
        "        start_index = start_index + 1\n",
        "        # if looped through matrix without finding swaps break\n",
        "        if index == start_index:\n",
        "            break\n",
        "\n",
        "    matrixA = reshape_matrix(arrayA, size)\n",
        "    matrixB = reshape_matrix(arrayB, size)\n",
        "    return matrixA, matrixB"
      ],
      "metadata": {
        "id": "eFIRmCVn97dB"
      },
      "execution_count": 141,
      "outputs": []
    },
    {
      "cell_type": "code",
      "source": [
        "matrixA = generate_matrix(8, 20)\n",
        "matrixB = generate_matrix(8, 20)\n",
        "matrixA, matrixB\n"
      ],
      "metadata": {
        "colab": {
          "base_uri": "https://localhost:8080/"
        },
        "id": "8IQOlSqm-yIx",
        "outputId": "a101417f-de83-47b7-adcd-ef73630fca09"
      },
      "execution_count": 143,
      "outputs": [
        {
          "output_type": "execute_result",
          "data": {
            "text/plain": [
              "(array([[0, 0, 1, 0, 1, 1, 0, 1],\n",
              "        [1, 0, 0, 0, 1, 1, 0, 0],\n",
              "        [0, 1, 0, 0, 0, 0, 1, 0],\n",
              "        [0, 1, 0, 1, 0, 1, 0, 1],\n",
              "        [0, 0, 1, 0, 1, 0, 0, 0],\n",
              "        [1, 0, 0, 1, 0, 0, 0, 1],\n",
              "        [1, 0, 0, 0, 0, 0, 1, 0],\n",
              "        [0, 0, 0, 0, 0, 0, 0, 0]]),\n",
              " array([[0, 0, 0, 0, 1, 0, 0, 1],\n",
              "        [0, 0, 0, 0, 0, 0, 1, 0],\n",
              "        [1, 1, 0, 1, 1, 0, 1, 0],\n",
              "        [0, 1, 0, 1, 1, 0, 0, 0],\n",
              "        [0, 0, 0, 0, 1, 0, 0, 0],\n",
              "        [0, 1, 0, 0, 0, 1, 0, 0],\n",
              "        [0, 0, 0, 1, 0, 1, 1, 1],\n",
              "        [0, 0, 1, 1, 0, 0, 0, 0]]))"
            ]
          },
          "metadata": {},
          "execution_count": 143
        }
      ]
    },
    {
      "cell_type": "code",
      "source": [
        "crossover(matrixA, matrixB)"
      ],
      "metadata": {
        "colab": {
          "base_uri": "https://localhost:8080/"
        },
        "id": "M2_LcSxpFJVQ",
        "outputId": "ed4330b2-2722-4f27-89c4-11c0bad8459f"
      },
      "execution_count": 144,
      "outputs": [
        {
          "output_type": "execute_result",
          "data": {
            "text/plain": [
              "(array([[0, 0, 1, 0, 1, 1, 0, 1],\n",
              "        [0, 0, 0, 0, 0, 1, 0, 0],\n",
              "        [0, 1, 0, 0, 0, 0, 1, 0],\n",
              "        [0, 1, 0, 1, 0, 1, 0, 1],\n",
              "        [0, 0, 1, 0, 1, 0, 0, 0],\n",
              "        [1, 0, 0, 1, 0, 0, 0, 1],\n",
              "        [1, 0, 0, 0, 0, 0, 1, 0],\n",
              "        [0, 0, 0, 0, 0, 0, 0, 0]]),\n",
              " array([[0, 0, 0, 0, 1, 0, 0, 1],\n",
              "        [1, 0, 0, 0, 1, 0, 1, 0],\n",
              "        [1, 1, 0, 1, 1, 0, 1, 0],\n",
              "        [0, 1, 0, 1, 1, 0, 0, 0],\n",
              "        [0, 0, 0, 0, 1, 0, 0, 0],\n",
              "        [0, 1, 0, 0, 0, 1, 0, 0],\n",
              "        [0, 0, 0, 1, 0, 1, 1, 1],\n",
              "        [0, 0, 1, 1, 0, 0, 0, 0]]))"
            ]
          },
          "metadata": {},
          "execution_count": 144
        }
      ]
    },
    {
      "cell_type": "code",
      "source": [
        "mat = [[1, 1, 0],\n",
        "       [1, 1, 0],\n",
        "       [0, 0, 1]]\n",
        "N = len(mat[0])\n",
        "used = [False] * N\n",
        "v = permRecurse(0, used, mat)\n",
        "print(v)"
      ],
      "metadata": {
        "id": "4UvxttoKLEnr"
      },
      "execution_count": null,
      "outputs": []
    },
    {
      "cell_type": "code",
      "source": [
        "matrix = generate_matrix(8, 20)\n",
        "matrix"
      ],
      "metadata": {
        "id": "tz8_D4GHQi2-"
      },
      "execution_count": null,
      "outputs": []
    },
    {
      "cell_type": "code",
      "source": [
        "N = len(matrix[0])\n",
        "used = [False] * N\n",
        "v = permRecurse(0, used, matrix)\n",
        "print(v)"
      ],
      "metadata": {
        "id": "alzbbYofQk4c"
      },
      "execution_count": null,
      "outputs": []
    },
    {
      "cell_type": "code",
      "source": [
        "def calculate_max_perm(n, m, trials):\n",
        "  permanents = []\n",
        "  for i in range(trials):\n",
        "    matrix = generate_matrix(n, m)\n",
        "    N = len(matrix[0])\n",
        "    used = [False] * N\n",
        "    v = permRecurse(0, used, matrix)\n",
        "    permanents.append(v)\n",
        "  return max(permanents)\n"
      ],
      "metadata": {
        "id": "B6bGcA9uQuzu"
      },
      "execution_count": null,
      "outputs": []
    },
    {
      "cell_type": "code",
      "source": [
        "calculate_max_perm(8, 20, 1000)"
      ],
      "metadata": {
        "id": "akr31-oVSPdH"
      },
      "execution_count": null,
      "outputs": []
    },
    {
      "cell_type": "code",
      "source": [],
      "metadata": {
        "id": "DFKPXMBlSUgZ"
      },
      "execution_count": null,
      "outputs": []
    }
  ]
}