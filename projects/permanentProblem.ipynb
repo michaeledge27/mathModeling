{
  "nbformat": 4,
  "nbformat_minor": 0,
  "metadata": {
    "colab": {
      "provenance": [],
      "include_colab_link": true
    },
    "kernelspec": {
      "name": "python3",
      "display_name": "Python 3"
    },
    "language_info": {
      "name": "python"
    }
  },
  "cells": [
    {
      "cell_type": "markdown",
      "metadata": {
        "id": "view-in-github",
        "colab_type": "text"
      },
      "source": [
        "<a href=\"https://colab.research.google.com/github/michaeledge27/mathModeling/blob/main/projects/permanentProblem.ipynb\" target=\"_parent\"><img src=\"https://colab.research.google.com/assets/colab-badge.svg\" alt=\"Open In Colab\"/></a>"
      ]
    },
    {
      "cell_type": "code",
      "execution_count": 218,
      "metadata": {
        "id": "MZbwJU-GKJrY"
      },
      "outputs": [],
      "source": [
        "import numpy as np"
      ]
    },
    {
      "cell_type": "code",
      "source": [
        "def permRecurse(row, used, mat):\n",
        "    N = len(mat[0])\n",
        "    v = 0\n",
        "    if row == N:\n",
        "        return 1\n",
        "    else:\n",
        "      for j in range(N):\n",
        "        if (not used[j] and mat[row][j] != 0):\n",
        "          used[j] = True\n",
        "          v += permRecurse(row + 1, used, mat)\n",
        "          used[j] = False\n",
        "      return v"
      ],
      "metadata": {
        "id": "5hmd20xTKmOc"
      },
      "execution_count": 219,
      "outputs": []
    },
    {
      "cell_type": "code",
      "source": [
        "# return the number of ones in a given matrix\n",
        "def onesCount(matrix):\n",
        "    return np.count_nonzero(matrix)"
      ],
      "metadata": {
        "id": "mSmV345KMJdw"
      },
      "execution_count": 220,
      "outputs": []
    },
    {
      "cell_type": "code",
      "source": [
        "def generate_matrix(n: int, m: int):\n",
        "    # generate nxn matrix with all 0's\n",
        "    matrix = np.zeros((n, n), dtype=int)\n",
        "    options = n**2\n",
        "    # randomly select m unique indices from the n**2 options\n",
        "    indices = np.random.choice(options, m, replace=False)\n",
        "    # replace the selected elements of the 0's matrix with 1's\n",
        "    np.put(matrix, indices, 1)\n",
        "    return matrix"
      ],
      "metadata": {
        "id": "iuiBBXbAQgMf"
      },
      "execution_count": 221,
      "outputs": []
    },
    {
      "cell_type": "markdown",
      "source": [
        "# mutation step"
      ],
      "metadata": {
        "id": "DynqVncMBg3R"
      }
    },
    {
      "cell_type": "code",
      "source": [
        "def pick_direction(i, j):\n",
        "    # choose random direction\n",
        "    direction = np.random.choice(['north', 'south', 'east', 'west'])\n",
        "    # handle directions accordingly\n",
        "    if direction == 'north':\n",
        "        i -= 1\n",
        "    elif direction == 'south':\n",
        "        i += 1\n",
        "    elif direction == 'east':\n",
        "        j += 1\n",
        "    elif direction == 'west':\n",
        "        j -= 1\n",
        "    return i, j"
      ],
      "metadata": {
        "id": "dc3n3XJtiFOA"
      },
      "execution_count": 222,
      "outputs": []
    },
    {
      "cell_type": "code",
      "source": [
        "pick_direction(1, 1)"
      ],
      "metadata": {
        "id": "LqoS5utwmGi_",
        "outputId": "10d1cf0b-686a-4b9b-de4e-43d8aff15c55",
        "colab": {
          "base_uri": "https://localhost:8080/"
        }
      },
      "execution_count": 223,
      "outputs": [
        {
          "output_type": "execute_result",
          "data": {
            "text/plain": [
              "(2, 1)"
            ]
          },
          "metadata": {},
          "execution_count": 223
        }
      ]
    },
    {
      "cell_type": "code",
      "source": [
        "# return random i, j indices\n",
        "def select_element(matrix):\n",
        "    i = np.random.randint(0, len(matrix))\n",
        "    j = np.random.randint(0, len(matrix[0]))\n",
        "    return i, j"
      ],
      "metadata": {
        "id": "3nxT-Ic1jB5X"
      },
      "execution_count": 224,
      "outputs": []
    },
    {
      "cell_type": "code",
      "source": [
        "# check if 2 elements are the same\n",
        "def check_same(element, new_element):\n",
        "    return element == new_element"
      ],
      "metadata": {
        "id": "XP6l8_E4jQmf"
      },
      "execution_count": 225,
      "outputs": []
    },
    {
      "cell_type": "code",
      "source": [
        "# return false if at least one of the NSEW neighbors is different\n",
        "def check_all_neighbors(matrix, i, j):\n",
        "    return matrix[i][j] == matrix[i-1][j] and matrix[i][j] == matrix[i+1][j] and matrix[i][j] == matrix[i][j-1] and matrix[i][j] == matrix[i][j+1]\n"
      ],
      "metadata": {
        "id": "BqSdtZpljblZ"
      },
      "execution_count": 226,
      "outputs": []
    },
    {
      "cell_type": "code",
      "source": [
        "# perform swap on a matrix with old i, j and new i, j values\n",
        "def perform_swap(matrixA, i, j, new_i, new_j):\n",
        "    matrixA[i][j], matrixA[new_i][new_j] = matrixA[new_i][new_j], matrixA[i][j]\n",
        "    return matrixA\n"
      ],
      "metadata": {
        "id": "DP0Twa7qkhR0"
      },
      "execution_count": 227,
      "outputs": []
    },
    {
      "cell_type": "code",
      "source": [
        "# handle the wraparound capabilities if needed\n",
        "def wraparound_swap(matrixA, i, j, new_i, new_j):\n",
        "    if new_i < 0:               # check if a north neighbor is chosen on an already upmost index\n",
        "        new_i = len(matrixA) - 1\n",
        "    elif new_i >= len(matrixA):  # check if an south neighbor is chosen on an already bottom most index\n",
        "        new_i = 0\n",
        "\n",
        "    if new_j < 0:                # check if a west neighbor is chosen on an already leftmost index\n",
        "        new_j = len(matrixA[0]) - 1\n",
        "    elif new_j >= len(matrixA[0]):    # check if an east neighbor is chosen on an already rightmost index\n",
        "        new_j = 0\n",
        "\n",
        "    matrixA[i][j], matrixA[new_i][new_j] = matrixA[new_i][new_j], matrixA[i][j]\n",
        "    return matrixA"
      ],
      "metadata": {
        "id": "DoRNYKEb6yan"
      },
      "execution_count": 228,
      "outputs": []
    },
    {
      "cell_type": "code",
      "source": [
        "# perform mutation step\n",
        "def mutation(matrixA, matrixB):\n",
        "    # select initial element\n",
        "    i, j = select_element(matrix)\n",
        "    # check if all surrounding neighbors are the same in which case skip the mutation step\n",
        "    if check_all_neighbors(matrix, i, j):\n",
        "        return matrix\n",
        "    else:\n",
        "        # pick random direction\n",
        "        new_i, new_j = pick_direction(i, j)\n",
        "        # check if the new direction is the same value as the current index\n",
        "        if check_same(i, new_i) and check_same(j, new_j):\n",
        "            return matrix\n",
        "        # if a swap can be made, perform it\n",
        "        elif new_i < 0 or new_i >= len(matrix) or new_j < 0 or new_j >= len(matrix[0]):   # perform wraparound if necessary\n",
        "            return wraparound_swap(matrix, i, j, new_i, new_j)\n",
        "        else:\n",
        "            return perform_swap(matrix, i, j, new_i, new_j)   # swap without wraparound\n"
      ],
      "metadata": {
        "id": "kVI2Pa0qhxQI"
      },
      "execution_count": 229,
      "outputs": []
    },
    {
      "cell_type": "markdown",
      "source": [
        "# crossover step"
      ],
      "metadata": {
        "id": "zHI8GAcSBZXl"
      }
    },
    {
      "cell_type": "code",
      "source": [
        "# handle wraparound for crossover step\n",
        "def wraparound_index(index, size):\n",
        "    return index % size"
      ],
      "metadata": {
        "id": "DasO6sDN7yMK"
      },
      "execution_count": 230,
      "outputs": []
    },
    {
      "cell_type": "code",
      "source": [
        "# take a matrix and turn it into an array\n",
        "def flatten_matrix(matrix):\n",
        "    return matrix.flatten()"
      ],
      "metadata": {
        "id": "6MzTf46R8y0l"
      },
      "execution_count": 231,
      "outputs": []
    },
    {
      "cell_type": "code",
      "source": [
        "# perform crossover swap for array A anad B, returning what swap step we are on\n",
        "def crossover_swap(arrayA, arrayB, index, swap_count, last_swap):\n",
        "    if arrayA[index] == 0 and arrayB[index] == 1 and last_swap != 1:\n",
        "        arrayA[index] = 1\n",
        "        arrayB[index] = 0\n",
        "        swap_count += 1\n",
        "        last_swap = 1\n",
        "    elif arrayA[index] == 1 and arrayB[index] == 0 and last_swap != 2:\n",
        "        arrayA[index] = 0\n",
        "        arrayB[index] = 1\n",
        "        swap_count += 1\n",
        "        last_swap = 2\n",
        "    return swap_count, last_swap"
      ],
      "metadata": {
        "id": "G8njtPgW9E-1"
      },
      "execution_count": 232,
      "outputs": []
    },
    {
      "cell_type": "code",
      "source": [
        "# turn the array back into a matrix\n",
        "def reshape_matrix(array, size):\n",
        "    return array.reshape(size, size)"
      ],
      "metadata": {
        "id": "iI5TDMIS90i1"
      },
      "execution_count": 233,
      "outputs": []
    },
    {
      "cell_type": "code",
      "source": [
        "# perform crossover step for two matrices\n",
        "def crossover(matrixA, matrixB):\n",
        "    attempts = 0\n",
        "    size = len(matrixA)\n",
        "    arrayA = flatten_matrix(matrixA)\n",
        "    arrayB = flatten_matrix(matrixB)\n",
        "    swap_count = 0  # keep track of what swap we're on\n",
        "    start_index = np.random.randint(0, size)    # start at a random index\n",
        "    last_swap = -1          # keep track of last swap\n",
        "    # only performing two swaps\n",
        "    while swap_count < 2:\n",
        "        swap_count, last_swap = crossover_swap(arrayA, arrayB, start_index, swap_count, last_swap)\n",
        "        attempts +=1\n",
        "        index = wraparound_index(start_index + 1, size)\n",
        "        start_index = wraparound_index(start_index + 1, size * size)\n",
        "        # if looped through matrix without finding swaps break\n",
        "        if attempts > size * size:\n",
        "            break\n",
        "\n",
        "    matrixA = reshape_matrix(arrayA, size)\n",
        "    matrixB = reshape_matrix(arrayB, size)\n",
        "    return matrixA, matrixB"
      ],
      "metadata": {
        "id": "eFIRmCVn97dB"
      },
      "execution_count": 234,
      "outputs": []
    },
    {
      "cell_type": "code",
      "source": [
        "for i in range(1000):\n",
        "  matrixA = generate_matrix(8, 20)\n",
        "  matrixB = generate_matrix(8, 20)\n",
        "  matrixA, matrixB = crossover(matrixA, matrixB)\n",
        "  oneA = onesCount(matrixA)\n",
        "  oneB = onesCount(matrixB)\n",
        "  if oneA != oneB:\n",
        "    print(oneA, oneB)"
      ],
      "metadata": {
        "id": "37L1iU_p-rVk"
      },
      "execution_count": 235,
      "outputs": []
    },
    {
      "cell_type": "code",
      "source": [
        "matrixA = generate_matrix(8, 20)\n",
        "matrixB = generate_matrix(8, 20)\n",
        "matrixA, matrixB\n"
      ],
      "metadata": {
        "colab": {
          "base_uri": "https://localhost:8080/"
        },
        "id": "8IQOlSqm-yIx",
        "outputId": "b7bfc12b-b1dc-4423-c06f-2861b68f3042"
      },
      "execution_count": 236,
      "outputs": [
        {
          "output_type": "execute_result",
          "data": {
            "text/plain": [
              "(array([[0, 1, 0, 0, 0, 0, 0, 0],\n",
              "        [0, 0, 1, 0, 1, 0, 0, 1],\n",
              "        [1, 0, 1, 1, 0, 0, 1, 0],\n",
              "        [1, 1, 0, 1, 0, 1, 0, 1],\n",
              "        [1, 1, 0, 0, 1, 0, 0, 0],\n",
              "        [0, 0, 0, 0, 0, 0, 0, 0],\n",
              "        [0, 0, 0, 0, 0, 0, 1, 0],\n",
              "        [1, 0, 0, 0, 0, 1, 0, 1]]),\n",
              " array([[1, 0, 0, 0, 0, 0, 0, 0],\n",
              "        [1, 1, 0, 1, 0, 1, 1, 1],\n",
              "        [1, 1, 0, 1, 0, 0, 0, 1],\n",
              "        [0, 0, 0, 0, 1, 0, 0, 1],\n",
              "        [0, 0, 0, 0, 0, 0, 1, 1],\n",
              "        [0, 0, 0, 0, 0, 0, 0, 0],\n",
              "        [0, 1, 0, 1, 0, 1, 0, 1],\n",
              "        [1, 0, 0, 0, 0, 0, 0, 0]]))"
            ]
          },
          "metadata": {},
          "execution_count": 236
        }
      ]
    },
    {
      "cell_type": "code",
      "source": [
        "crossover(matrixA, matrixB)"
      ],
      "metadata": {
        "colab": {
          "base_uri": "https://localhost:8080/"
        },
        "id": "M2_LcSxpFJVQ",
        "outputId": "6b97a3cd-945b-4b89-994f-bfcd5c4bd86b"
      },
      "execution_count": 237,
      "outputs": [
        {
          "output_type": "execute_result",
          "data": {
            "text/plain": [
              "(array([[0, 1, 0, 0, 0, 0, 0, 0],\n",
              "        [1, 0, 0, 0, 1, 0, 0, 1],\n",
              "        [1, 0, 1, 1, 0, 0, 1, 0],\n",
              "        [1, 1, 0, 1, 0, 1, 0, 1],\n",
              "        [1, 1, 0, 0, 1, 0, 0, 0],\n",
              "        [0, 0, 0, 0, 0, 0, 0, 0],\n",
              "        [0, 0, 0, 0, 0, 0, 1, 0],\n",
              "        [1, 0, 0, 0, 0, 1, 0, 1]]),\n",
              " array([[1, 0, 0, 0, 0, 0, 0, 0],\n",
              "        [0, 1, 1, 1, 0, 1, 1, 1],\n",
              "        [1, 1, 0, 1, 0, 0, 0, 1],\n",
              "        [0, 0, 0, 0, 1, 0, 0, 1],\n",
              "        [0, 0, 0, 0, 0, 0, 1, 1],\n",
              "        [0, 0, 0, 0, 0, 0, 0, 0],\n",
              "        [0, 1, 0, 1, 0, 1, 0, 1],\n",
              "        [1, 0, 0, 0, 0, 0, 0, 0]]))"
            ]
          },
          "metadata": {},
          "execution_count": 237
        }
      ]
    },
    {
      "cell_type": "code",
      "source": [
        "mat = [[1, 1, 0],\n",
        "       [1, 1, 0],\n",
        "       [0, 0, 1]]\n",
        "N = len(mat[0])\n",
        "used = [False] * N\n",
        "v = permRecurse(0, used, mat)\n",
        "print(v)"
      ],
      "metadata": {
        "colab": {
          "base_uri": "https://localhost:8080/"
        },
        "id": "4UvxttoKLEnr",
        "outputId": "443f0c28-4c76-4f6b-9ed3-8b83904d50b6"
      },
      "execution_count": 238,
      "outputs": [
        {
          "output_type": "stream",
          "name": "stdout",
          "text": [
            "2\n"
          ]
        }
      ]
    },
    {
      "cell_type": "code",
      "source": [
        "matrix = generate_matrix(8, 20)\n",
        "matrix"
      ],
      "metadata": {
        "colab": {
          "base_uri": "https://localhost:8080/"
        },
        "id": "tz8_D4GHQi2-",
        "outputId": "7bdb220b-b792-475d-d82d-0b486be16fc2"
      },
      "execution_count": 239,
      "outputs": [
        {
          "output_type": "execute_result",
          "data": {
            "text/plain": [
              "array([[1, 0, 0, 0, 0, 0, 0, 0],\n",
              "       [0, 0, 1, 1, 0, 0, 0, 0],\n",
              "       [1, 0, 1, 0, 0, 0, 0, 0],\n",
              "       [0, 0, 1, 0, 0, 0, 1, 0],\n",
              "       [1, 0, 0, 1, 1, 0, 0, 0],\n",
              "       [1, 0, 0, 1, 0, 0, 0, 1],\n",
              "       [1, 1, 0, 0, 0, 0, 0, 1],\n",
              "       [1, 0, 1, 0, 0, 1, 0, 1]])"
            ]
          },
          "metadata": {},
          "execution_count": 239
        }
      ]
    },
    {
      "cell_type": "code",
      "source": [
        "N = len(matrix[0])\n",
        "used = [False] * N\n",
        "v = permRecurse(0, used, matrix)\n",
        "print(v)"
      ],
      "metadata": {
        "colab": {
          "base_uri": "https://localhost:8080/"
        },
        "id": "alzbbYofQk4c",
        "outputId": "777def17-b5a0-4fa9-d3d4-49871cb50f52"
      },
      "execution_count": 240,
      "outputs": [
        {
          "output_type": "stream",
          "name": "stdout",
          "text": [
            "1\n"
          ]
        }
      ]
    },
    {
      "cell_type": "code",
      "source": [
        "def calculate_max_perm(n, m, trials):\n",
        "  permanents = []\n",
        "  for i in range(trials):\n",
        "    matrix = generate_matrix(n, m)\n",
        "    N = len(matrix[0])\n",
        "    used = [False] * N\n",
        "    v = permRecurse(0, used, matrix)\n",
        "    permanents.append(v)\n",
        "  return max(permanents)\n"
      ],
      "metadata": {
        "id": "B6bGcA9uQuzu"
      },
      "execution_count": 241,
      "outputs": []
    },
    {
      "cell_type": "code",
      "source": [
        "calculate_max_perm(8, 20, 1000)"
      ],
      "metadata": {
        "colab": {
          "base_uri": "https://localhost:8080/"
        },
        "id": "akr31-oVSPdH",
        "outputId": "61923939-e50d-46d9-bb49-56002c4d5f4a"
      },
      "execution_count": 242,
      "outputs": [
        {
          "output_type": "execute_result",
          "data": {
            "text/plain": [
              "13"
            ]
          },
          "metadata": {},
          "execution_count": 242
        }
      ]
    },
    {
      "cell_type": "code",
      "source": [],
      "metadata": {
        "id": "DFKPXMBlSUgZ"
      },
      "execution_count": 242,
      "outputs": []
    },
    {
      "cell_type": "markdown",
      "source": [
        "# genetic algorithm solution"
      ],
      "metadata": {
        "id": "bF3N0PlURGUp"
      }
    },
    {
      "cell_type": "code",
      "source": [
        "def chromosones(n: int, m: int, population: int):\n",
        "    # create a list of chromosones (nxn 0/1 matrices having m 1's)\n",
        "    total_population = []\n",
        "    # generate the population size # of chromosones\n",
        "    for i in range(population):\n",
        "        # generate nxn matrix with m 1's\n",
        "        matrix = generate_matrix(n, m)\n",
        "        total_population.append(matrix)\n",
        "    # return sorted population by highest permanent to lowest\n",
        "    order = []\n",
        "    for chro in total_population:\n",
        "      perm = permRecurse(0, [False] * len(chro[0]), chro)\n",
        "      order.append((perm, chro))\n",
        "    order.sort(key=lambda item: item[0], reverse=True)\n",
        "    return order"
      ],
      "metadata": {
        "id": "wSuaXz_tROrS"
      },
      "execution_count": 243,
      "outputs": []
    },
    {
      "cell_type": "code",
      "source": [
        "chromosones(8, 20, 4)"
      ],
      "metadata": {
        "id": "BmKI6-TARnt_",
        "outputId": "76da444e-0766-4e54-b609-a77f07aff127",
        "colab": {
          "base_uri": "https://localhost:8080/"
        }
      },
      "execution_count": 244,
      "outputs": [
        {
          "output_type": "execute_result",
          "data": {
            "text/plain": [
              "[(6,\n",
              "  array([[0, 0, 0, 0, 0, 1, 1, 0],\n",
              "         [0, 0, 0, 1, 1, 0, 0, 1],\n",
              "         [1, 0, 0, 1, 0, 0, 1, 0],\n",
              "         [0, 0, 1, 0, 0, 0, 1, 0],\n",
              "         [1, 0, 0, 0, 1, 0, 0, 0],\n",
              "         [0, 1, 1, 0, 1, 0, 0, 0],\n",
              "         [1, 1, 0, 0, 0, 1, 0, 0],\n",
              "         [0, 1, 0, 1, 0, 0, 0, 0]])),\n",
              " (2,\n",
              "  array([[0, 1, 1, 0, 1, 1, 0, 0],\n",
              "         [0, 0, 1, 0, 0, 0, 0, 0],\n",
              "         [0, 0, 0, 1, 0, 0, 0, 0],\n",
              "         [1, 0, 0, 0, 1, 0, 1, 1],\n",
              "         [0, 0, 0, 0, 1, 1, 0, 0],\n",
              "         [0, 0, 1, 0, 1, 0, 0, 1],\n",
              "         [0, 0, 0, 0, 0, 1, 1, 1],\n",
              "         [0, 0, 0, 0, 0, 1, 0, 1]])),\n",
              " (0,\n",
              "  array([[0, 0, 0, 0, 1, 0, 0, 1],\n",
              "         [0, 0, 0, 1, 0, 0, 0, 1],\n",
              "         [1, 0, 1, 1, 1, 0, 0, 0],\n",
              "         [0, 0, 0, 0, 1, 0, 1, 0],\n",
              "         [1, 1, 0, 0, 0, 1, 1, 1],\n",
              "         [0, 0, 1, 0, 1, 0, 1, 0],\n",
              "         [0, 0, 1, 0, 0, 0, 0, 0],\n",
              "         [1, 0, 0, 0, 0, 0, 0, 0]])),\n",
              " (0,\n",
              "  array([[1, 0, 0, 0, 0, 0, 1, 1],\n",
              "         [1, 1, 1, 0, 0, 0, 0, 0],\n",
              "         [0, 1, 1, 0, 0, 0, 1, 1],\n",
              "         [0, 0, 0, 0, 0, 0, 1, 1],\n",
              "         [0, 1, 1, 1, 0, 0, 0, 0],\n",
              "         [1, 0, 0, 0, 0, 0, 0, 1],\n",
              "         [0, 0, 0, 0, 0, 0, 1, 0],\n",
              "         [0, 0, 0, 0, 0, 0, 1, 1]]))]"
            ]
          },
          "metadata": {},
          "execution_count": 244
        }
      ]
    },
    {
      "cell_type": "code",
      "source": [],
      "metadata": {
        "id": "6nCEJpWoTxpy"
      },
      "execution_count": 244,
      "outputs": []
    }
  ]
}