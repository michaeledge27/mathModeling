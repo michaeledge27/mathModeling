{
  "nbformat": 4,
  "nbformat_minor": 0,
  "metadata": {
    "colab": {
      "provenance": [],
      "include_colab_link": true
    },
    "kernelspec": {
      "name": "python3",
      "display_name": "Python 3"
    },
    "language_info": {
      "name": "python"
    }
  },
  "cells": [
    {
      "cell_type": "markdown",
      "metadata": {
        "id": "view-in-github",
        "colab_type": "text"
      },
      "source": [
        "<a href=\"https://colab.research.google.com/github/michaeledge27/mathModeling/blob/main/projects/permanentProblem.ipynb\" target=\"_parent\"><img src=\"https://colab.research.google.com/assets/colab-badge.svg\" alt=\"Open In Colab\"/></a>"
      ]
    },
    {
      "cell_type": "code",
      "execution_count": 44,
      "metadata": {
        "id": "MZbwJU-GKJrY"
      },
      "outputs": [],
      "source": [
        "import numpy as np"
      ]
    },
    {
      "cell_type": "code",
      "source": [
        "def permRecurse(row, used, mat):\n",
        "    N = len(mat[0])\n",
        "    v = 0\n",
        "    if row == N:\n",
        "        return 1\n",
        "    else:\n",
        "      for j in range(N):\n",
        "        if (not used[j] and mat[row][j] != 0):\n",
        "          used[j] = True\n",
        "          v += permRecurse(row + 1, used, mat)\n",
        "          used[j] = False\n",
        "      return v"
      ],
      "metadata": {
        "id": "5hmd20xTKmOc"
      },
      "execution_count": 45,
      "outputs": []
    },
    {
      "cell_type": "code",
      "source": [
        "# return the number of ones in a given matrix\n",
        "def onesCount(matrix):\n",
        "    return np.count_nonzero(matrix)"
      ],
      "metadata": {
        "id": "mSmV345KMJdw"
      },
      "execution_count": 46,
      "outputs": []
    },
    {
      "cell_type": "code",
      "source": [
        "def generate_matrix(n: int, m: int):\n",
        "    # generate nxn matrix with all 0's\n",
        "    matrix = np.zeros((n, n), dtype=int)\n",
        "    options = n**2\n",
        "    # randomly select m unique indices from the n**2 options\n",
        "    indices = np.random.choice(options, m, replace=False)\n",
        "    # replace the selected elements of the 0's matrix with 1's\n",
        "    np.put(matrix, indices, 1)\n",
        "    return matrix"
      ],
      "metadata": {
        "id": "iuiBBXbAQgMf"
      },
      "execution_count": 47,
      "outputs": []
    },
    {
      "cell_type": "markdown",
      "source": [
        "# mutation step"
      ],
      "metadata": {
        "id": "DynqVncMBg3R"
      }
    },
    {
      "cell_type": "code",
      "source": [
        "def pick_direction(i, j):\n",
        "    # choose random direction\n",
        "    direction = np.random.choice(['north', 'south', 'east', 'west'])\n",
        "    # handle directions accordingly\n",
        "    if direction == 'north':\n",
        "        i -= 1\n",
        "    elif direction == 'south':\n",
        "        i += 1\n",
        "    elif direction == 'east':\n",
        "        j += 1\n",
        "    elif direction == 'west':\n",
        "        j -= 1\n",
        "    return i, j"
      ],
      "metadata": {
        "id": "dc3n3XJtiFOA"
      },
      "execution_count": 48,
      "outputs": []
    },
    {
      "cell_type": "code",
      "source": [
        "pick_direction(1, 1)"
      ],
      "metadata": {
        "id": "LqoS5utwmGi_",
        "outputId": "e9d76766-296e-406e-d6af-89de118f1bcc",
        "colab": {
          "base_uri": "https://localhost:8080/"
        }
      },
      "execution_count": 49,
      "outputs": [
        {
          "output_type": "execute_result",
          "data": {
            "text/plain": [
              "(2, 1)"
            ]
          },
          "metadata": {},
          "execution_count": 49
        }
      ]
    },
    {
      "cell_type": "code",
      "source": [
        "# return random i, j indices\n",
        "def select_element(matrix):\n",
        "    i = np.random.randint(0, len(matrix))\n",
        "    j = np.random.randint(0, len(matrix[0]))\n",
        "    return i, j"
      ],
      "metadata": {
        "id": "3nxT-Ic1jB5X"
      },
      "execution_count": 50,
      "outputs": []
    },
    {
      "cell_type": "code",
      "source": [
        "# check if 2 elements are the same\n",
        "def check_same(element, new_element):\n",
        "    return element == new_element"
      ],
      "metadata": {
        "id": "XP6l8_E4jQmf"
      },
      "execution_count": 51,
      "outputs": []
    },
    {
      "cell_type": "code",
      "source": [
        "# return false if at least one of the NSEW neighbors is different\n",
        "def check_all_neighbors(matrix, i, j):\n",
        "    size = len(matrix)\n",
        "    west_neighbor = j - 1 if j > 0 else size - 1\n",
        "    north_neighbor = i - 1 if i > 0 else size - 1\n",
        "    south_neighbor = i + 1 if i < size - 1 else 0\n",
        "    east_neighbor = j + 1 if j < size - 1 else 0\n",
        "    return matrix[i][j] == west_neighbor and matrix[i][j] == north_neighbor and matrix[i][j] == south_neighbor and matrix[i][j] == east_neighbor\n"
      ],
      "metadata": {
        "id": "BqSdtZpljblZ"
      },
      "execution_count": 52,
      "outputs": []
    },
    {
      "cell_type": "code",
      "source": [
        "# perform swap on a matrix with old i, j and new i, j values\n",
        "def perform_swap(matrixA, i, j, new_i, new_j):\n",
        "    matrixA[i][j], matrixA[new_i][new_j] = matrixA[new_i][new_j], matrixA[i][j]\n",
        "    return matrixA\n"
      ],
      "metadata": {
        "id": "DP0Twa7qkhR0"
      },
      "execution_count": 53,
      "outputs": []
    },
    {
      "cell_type": "code",
      "source": [
        "# handle the wraparound capabilities if needed\n",
        "def wraparound_swap(matrixA, i, j, new_i, new_j):\n",
        "    if new_i < 0:               # check if a north neighbor is chosen on an already upmost index\n",
        "        new_i = len(matrixA) - 1\n",
        "    elif new_i >= len(matrixA):  # check if an south neighbor is chosen on an already bottom most index\n",
        "        new_i = 0\n",
        "\n",
        "    if new_j < 0:                # check if a west neighbor is chosen on an already leftmost index\n",
        "        new_j = len(matrixA[0]) - 1\n",
        "    elif new_j >= len(matrixA[0]):    # check if an east neighbor is chosen on an already rightmost index\n",
        "        new_j = 0\n",
        "\n",
        "    matrixA[i][j], matrixA[new_i][new_j] = matrixA[new_i][new_j], matrixA[i][j]\n",
        "    return matrixA"
      ],
      "metadata": {
        "id": "DoRNYKEb6yan"
      },
      "execution_count": 54,
      "outputs": []
    },
    {
      "cell_type": "code",
      "source": [
        "# perform mutation step\n",
        "def mutation(matrix):\n",
        "    # select initial element\n",
        "    i, j = select_element(matrix)\n",
        "    # check if all surrounding neighbors are the same in which case skip the mutation step\n",
        "    if check_all_neighbors(matrix, i, j):\n",
        "        return matrix\n",
        "    else:\n",
        "        # pick random direction\n",
        "        new_i, new_j = pick_direction(i, j)\n",
        "        # check if the new direction is the same value as the current index\n",
        "        if check_same(i, new_i) and check_same(j, new_j):\n",
        "            return matrix\n",
        "        # if a swap can be made, perform it\n",
        "        elif new_i < 0 or new_i >= len(matrix) or new_j < 0 or new_j >= len(matrix[0]):   # perform wraparound if necessary\n",
        "            return wraparound_swap(matrix, i, j, new_i, new_j)\n",
        "        else:\n",
        "            return perform_swap(matrix, i, j, new_i, new_j)   # swap without wraparound\n"
      ],
      "metadata": {
        "id": "kVI2Pa0qhxQI"
      },
      "execution_count": 55,
      "outputs": []
    },
    {
      "cell_type": "code",
      "source": [
        "matrix = generate_matrix(8, 20)\n",
        "matrix"
      ],
      "metadata": {
        "colab": {
          "base_uri": "https://localhost:8080/"
        },
        "id": "kGuKXquHagrb",
        "outputId": "48002878-67f0-40cd-dc6f-bb59e35d66a8"
      },
      "execution_count": 56,
      "outputs": [
        {
          "output_type": "execute_result",
          "data": {
            "text/plain": [
              "array([[0, 0, 0, 1, 0, 0, 1, 1],\n",
              "       [0, 0, 0, 0, 0, 0, 0, 0],\n",
              "       [1, 1, 0, 1, 0, 0, 1, 0],\n",
              "       [0, 0, 0, 0, 0, 0, 0, 1],\n",
              "       [1, 1, 1, 1, 0, 1, 1, 0],\n",
              "       [0, 1, 1, 0, 0, 0, 0, 0],\n",
              "       [1, 0, 0, 1, 0, 0, 0, 1],\n",
              "       [0, 0, 0, 0, 1, 0, 0, 0]])"
            ]
          },
          "metadata": {},
          "execution_count": 56
        }
      ]
    },
    {
      "cell_type": "code",
      "source": [
        "mutation(matrix)"
      ],
      "metadata": {
        "colab": {
          "base_uri": "https://localhost:8080/"
        },
        "id": "dvgLngIlajuf",
        "outputId": "93a7514b-a708-400f-b559-c4f341a38d55"
      },
      "execution_count": 57,
      "outputs": [
        {
          "output_type": "execute_result",
          "data": {
            "text/plain": [
              "array([[0, 0, 0, 1, 0, 0, 1, 1],\n",
              "       [0, 0, 0, 0, 0, 0, 0, 0],\n",
              "       [1, 1, 0, 1, 0, 0, 1, 0],\n",
              "       [1, 0, 0, 0, 0, 0, 0, 0],\n",
              "       [1, 1, 1, 1, 0, 1, 1, 0],\n",
              "       [0, 1, 1, 0, 0, 0, 0, 0],\n",
              "       [1, 0, 0, 1, 0, 0, 0, 1],\n",
              "       [0, 0, 0, 0, 1, 0, 0, 0]])"
            ]
          },
          "metadata": {},
          "execution_count": 57
        }
      ]
    },
    {
      "cell_type": "markdown",
      "source": [
        "# crossover step"
      ],
      "metadata": {
        "id": "zHI8GAcSBZXl"
      }
    },
    {
      "cell_type": "code",
      "source": [
        "# handle wraparound for crossover step\n",
        "def wraparound_index(index, size):\n",
        "    return index % size"
      ],
      "metadata": {
        "id": "DasO6sDN7yMK"
      },
      "execution_count": 58,
      "outputs": []
    },
    {
      "cell_type": "code",
      "source": [
        "# take a matrix and turn it into an array\n",
        "def flatten_matrix(matrix):\n",
        "    return matrix.flatten()"
      ],
      "metadata": {
        "id": "6MzTf46R8y0l"
      },
      "execution_count": 59,
      "outputs": []
    },
    {
      "cell_type": "code",
      "source": [
        "# perform crossover swap for array A anad B, returning what swap step we are on\n",
        "def crossover_swap(arrayA, arrayB, index, swap_count, last_swap):\n",
        "    if arrayA[index] == 0 and arrayB[index] == 1 and last_swap != 1:\n",
        "        arrayA[index] = 1\n",
        "        arrayB[index] = 0\n",
        "        swap_count += 1\n",
        "        last_swap = 1\n",
        "    elif arrayA[index] == 1 and arrayB[index] == 0 and last_swap != 2:\n",
        "        arrayA[index] = 0\n",
        "        arrayB[index] = 1\n",
        "        swap_count += 1\n",
        "        last_swap = 2\n",
        "    return swap_count, last_swap"
      ],
      "metadata": {
        "id": "G8njtPgW9E-1"
      },
      "execution_count": 60,
      "outputs": []
    },
    {
      "cell_type": "code",
      "source": [
        "# turn the array back into a matrix\n",
        "def reshape_matrix(array, size):\n",
        "    return array.reshape(size, size)"
      ],
      "metadata": {
        "id": "iI5TDMIS90i1"
      },
      "execution_count": 61,
      "outputs": []
    },
    {
      "cell_type": "code",
      "source": [
        "# perform crossover step for two matrices\n",
        "def crossover(matrixA, matrixB):\n",
        "    attempts = 0\n",
        "    size = len(matrixA)\n",
        "    arrayA = flatten_matrix(matrixA)\n",
        "    arrayB = flatten_matrix(matrixB)\n",
        "    swap_count = 0  # keep track of what swap we're on\n",
        "    start_index = np.random.randint(0, size)    # start at a random index\n",
        "    last_swap = -1          # keep track of last swap\n",
        "    # only performing two swaps\n",
        "    while swap_count < 2:\n",
        "        swap_count, last_swap = crossover_swap(arrayA, arrayB, start_index, swap_count, last_swap)\n",
        "        attempts +=1\n",
        "        index = wraparound_index(start_index + 1, size)\n",
        "        start_index = wraparound_index(start_index + 1, size * size)\n",
        "        # if looped through matrix without finding swaps break\n",
        "        if attempts > size * size:\n",
        "            break\n",
        "\n",
        "    matrixA = reshape_matrix(arrayA, size)\n",
        "    matrixB = reshape_matrix(arrayB, size)\n",
        "    return matrixA, matrixB"
      ],
      "metadata": {
        "id": "eFIRmCVn97dB"
      },
      "execution_count": 62,
      "outputs": []
    },
    {
      "cell_type": "code",
      "source": [
        "for i in range(1000):\n",
        "  matrixA = generate_matrix(8, 20)\n",
        "  matrixB = generate_matrix(8, 20)\n",
        "  matrixA, matrixB = crossover(matrixA, matrixB)\n",
        "  oneA = onesCount(matrixA)\n",
        "  oneB = onesCount(matrixB)\n",
        "  if oneA != oneB:\n",
        "    print(oneA, oneB)"
      ],
      "metadata": {
        "id": "37L1iU_p-rVk"
      },
      "execution_count": 63,
      "outputs": []
    },
    {
      "cell_type": "code",
      "source": [
        "matrixA = generate_matrix(8, 20)\n",
        "matrixB = generate_matrix(8, 20)\n",
        "matrixA, matrixB\n"
      ],
      "metadata": {
        "colab": {
          "base_uri": "https://localhost:8080/"
        },
        "id": "8IQOlSqm-yIx",
        "outputId": "8ec6ba3f-38af-4b9d-c59a-3ae550d5144f"
      },
      "execution_count": 64,
      "outputs": [
        {
          "output_type": "execute_result",
          "data": {
            "text/plain": [
              "(array([[0, 0, 0, 0, 0, 0, 0, 0],\n",
              "        [0, 1, 1, 1, 0, 0, 1, 0],\n",
              "        [0, 1, 1, 0, 0, 0, 1, 0],\n",
              "        [0, 1, 0, 1, 0, 0, 0, 0],\n",
              "        [1, 1, 0, 0, 0, 0, 0, 1],\n",
              "        [0, 1, 1, 1, 0, 0, 0, 1],\n",
              "        [0, 0, 0, 0, 0, 0, 0, 0],\n",
              "        [0, 1, 1, 0, 0, 0, 1, 1]]),\n",
              " array([[1, 0, 0, 0, 0, 0, 1, 1],\n",
              "        [0, 0, 0, 0, 0, 0, 0, 1],\n",
              "        [0, 0, 0, 0, 0, 0, 0, 0],\n",
              "        [1, 1, 0, 0, 0, 0, 0, 1],\n",
              "        [1, 0, 1, 1, 1, 1, 0, 1],\n",
              "        [0, 0, 0, 0, 0, 0, 1, 0],\n",
              "        [1, 0, 0, 1, 0, 1, 0, 1],\n",
              "        [0, 1, 0, 0, 1, 0, 0, 0]]))"
            ]
          },
          "metadata": {},
          "execution_count": 64
        }
      ]
    },
    {
      "cell_type": "code",
      "source": [
        "crossover(matrixA, matrixB)"
      ],
      "metadata": {
        "colab": {
          "base_uri": "https://localhost:8080/"
        },
        "id": "M2_LcSxpFJVQ",
        "outputId": "f5517e1e-f64e-451d-b6d4-6df6b9300f9d"
      },
      "execution_count": 65,
      "outputs": [
        {
          "output_type": "execute_result",
          "data": {
            "text/plain": [
              "(array([[0, 0, 0, 0, 0, 0, 1, 0],\n",
              "        [0, 0, 1, 1, 0, 0, 1, 0],\n",
              "        [0, 1, 1, 0, 0, 0, 1, 0],\n",
              "        [0, 1, 0, 1, 0, 0, 0, 0],\n",
              "        [1, 1, 0, 0, 0, 0, 0, 1],\n",
              "        [0, 1, 1, 1, 0, 0, 0, 1],\n",
              "        [0, 0, 0, 0, 0, 0, 0, 0],\n",
              "        [0, 1, 1, 0, 0, 0, 1, 1]]),\n",
              " array([[1, 0, 0, 0, 0, 0, 0, 1],\n",
              "        [0, 1, 0, 0, 0, 0, 0, 1],\n",
              "        [0, 0, 0, 0, 0, 0, 0, 0],\n",
              "        [1, 1, 0, 0, 0, 0, 0, 1],\n",
              "        [1, 0, 1, 1, 1, 1, 0, 1],\n",
              "        [0, 0, 0, 0, 0, 0, 1, 0],\n",
              "        [1, 0, 0, 1, 0, 1, 0, 1],\n",
              "        [0, 1, 0, 0, 1, 0, 0, 0]]))"
            ]
          },
          "metadata": {},
          "execution_count": 65
        }
      ]
    },
    {
      "cell_type": "code",
      "source": [
        "mat = [[1, 1, 0],\n",
        "       [1, 1, 0],\n",
        "       [0, 0, 1]]\n",
        "N = len(mat[0])\n",
        "used = [False] * N\n",
        "v = permRecurse(0, used, mat)\n",
        "print(v)"
      ],
      "metadata": {
        "colab": {
          "base_uri": "https://localhost:8080/"
        },
        "id": "4UvxttoKLEnr",
        "outputId": "afb13745-c3ea-46aa-f198-a9412112106e"
      },
      "execution_count": 66,
      "outputs": [
        {
          "output_type": "stream",
          "name": "stdout",
          "text": [
            "2\n"
          ]
        }
      ]
    },
    {
      "cell_type": "code",
      "source": [
        "matrix = generate_matrix(8, 20)\n",
        "matrix"
      ],
      "metadata": {
        "colab": {
          "base_uri": "https://localhost:8080/"
        },
        "id": "tz8_D4GHQi2-",
        "outputId": "32000647-6967-44fa-9081-87113d408079"
      },
      "execution_count": 67,
      "outputs": [
        {
          "output_type": "execute_result",
          "data": {
            "text/plain": [
              "array([[1, 0, 0, 0, 0, 1, 1, 1],\n",
              "       [1, 1, 1, 1, 0, 1, 0, 0],\n",
              "       [0, 0, 0, 0, 0, 0, 1, 0],\n",
              "       [0, 0, 0, 0, 1, 0, 0, 0],\n",
              "       [1, 0, 1, 1, 0, 0, 0, 0],\n",
              "       [1, 0, 0, 1, 0, 0, 0, 0],\n",
              "       [0, 1, 0, 1, 0, 1, 1, 0],\n",
              "       [0, 0, 0, 0, 0, 0, 0, 0]])"
            ]
          },
          "metadata": {},
          "execution_count": 67
        }
      ]
    },
    {
      "cell_type": "code",
      "source": [
        "N = len(matrix[0])\n",
        "used = [False] * N\n",
        "v = permRecurse(0, used, matrix)\n",
        "print(v)"
      ],
      "metadata": {
        "colab": {
          "base_uri": "https://localhost:8080/"
        },
        "id": "alzbbYofQk4c",
        "outputId": "3091c3f4-6352-4215-8ce3-aad96be72b17"
      },
      "execution_count": 68,
      "outputs": [
        {
          "output_type": "stream",
          "name": "stdout",
          "text": [
            "0\n"
          ]
        }
      ]
    },
    {
      "cell_type": "code",
      "source": [
        "def calculate_max_perm(n, m, trials):\n",
        "  permanents = []\n",
        "  for i in range(trials):\n",
        "    matrix = generate_matrix(n, m)\n",
        "    N = len(matrix[0])\n",
        "    used = [False] * N\n",
        "    v = permRecurse(0, used, matrix)\n",
        "    permanents.append(v)\n",
        "  return max(permanents)\n"
      ],
      "metadata": {
        "id": "B6bGcA9uQuzu"
      },
      "execution_count": 69,
      "outputs": []
    },
    {
      "cell_type": "code",
      "source": [
        "calculate_max_perm(8, 20, 1000)"
      ],
      "metadata": {
        "colab": {
          "base_uri": "https://localhost:8080/"
        },
        "id": "akr31-oVSPdH",
        "outputId": "2f49a877-5542-4411-bdd6-aa41a46a7acc"
      },
      "execution_count": 70,
      "outputs": [
        {
          "output_type": "execute_result",
          "data": {
            "text/plain": [
              "10"
            ]
          },
          "metadata": {},
          "execution_count": 70
        }
      ]
    },
    {
      "cell_type": "code",
      "source": [],
      "metadata": {
        "id": "DFKPXMBlSUgZ"
      },
      "execution_count": 70,
      "outputs": []
    },
    {
      "cell_type": "markdown",
      "source": [
        "# genetic algorithm solution"
      ],
      "metadata": {
        "id": "bF3N0PlURGUp"
      }
    },
    {
      "cell_type": "code",
      "source": [
        "def chromosones(n: int, m: int, population: int):\n",
        "    # create a list of chromosones (nxn 0/1 matrices having m 1's)\n",
        "    total_population = []\n",
        "    # generate the population size # of chromosones\n",
        "    for i in range(population):\n",
        "        # generate nxn matrix with m 1's\n",
        "        matrix = generate_matrix(n, m)\n",
        "        total_population.append(matrix)\n",
        "    # return sorted population by highest permanent to lowest\n",
        "    order = []\n",
        "    for chro in total_population:\n",
        "      perm = permRecurse(0, [False] * len(chro[0]), chro)\n",
        "      order.append((perm, chro))\n",
        "    order.sort(key=lambda item: item[0], reverse=True)\n",
        "    return order"
      ],
      "metadata": {
        "id": "wSuaXz_tROrS"
      },
      "execution_count": 71,
      "outputs": []
    },
    {
      "cell_type": "code",
      "source": [],
      "metadata": {
        "id": "WpT5pBjpZVsq"
      },
      "execution_count": 71,
      "outputs": []
    },
    {
      "cell_type": "code",
      "source": [
        "chromosones(8, 20, 4)"
      ],
      "metadata": {
        "colab": {
          "base_uri": "https://localhost:8080/"
        },
        "id": "BmKI6-TARnt_",
        "outputId": "ce29f7ba-f3dc-490a-e46a-daca679d23af"
      },
      "execution_count": 72,
      "outputs": [
        {
          "output_type": "execute_result",
          "data": {
            "text/plain": [
              "[(2,\n",
              "  array([[1, 0, 1, 1, 1, 0, 1, 0],\n",
              "         [0, 0, 0, 0, 0, 1, 0, 0],\n",
              "         [1, 0, 1, 0, 1, 0, 0, 0],\n",
              "         [0, 0, 0, 1, 1, 0, 1, 1],\n",
              "         [0, 0, 0, 0, 0, 0, 0, 1],\n",
              "         [0, 1, 0, 0, 1, 0, 0, 0],\n",
              "         [0, 1, 0, 0, 0, 0, 0, 0],\n",
              "         [0, 1, 0, 1, 1, 0, 0, 0]])),\n",
              " (0,\n",
              "  array([[0, 1, 0, 0, 0, 1, 1, 0],\n",
              "         [0, 1, 0, 0, 1, 0, 0, 0],\n",
              "         [1, 0, 0, 0, 1, 0, 1, 1],\n",
              "         [0, 0, 0, 0, 0, 0, 0, 1],\n",
              "         [0, 1, 0, 1, 0, 1, 0, 0],\n",
              "         [0, 1, 1, 1, 0, 0, 1, 0],\n",
              "         [0, 0, 0, 0, 0, 0, 0, 1],\n",
              "         [0, 0, 0, 1, 0, 1, 0, 0]])),\n",
              " (0,\n",
              "  array([[1, 1, 0, 0, 0, 1, 0, 0],\n",
              "         [0, 1, 0, 0, 0, 1, 1, 0],\n",
              "         [0, 0, 0, 0, 0, 0, 0, 0],\n",
              "         [0, 0, 1, 1, 1, 1, 0, 1],\n",
              "         [0, 0, 0, 1, 0, 1, 0, 0],\n",
              "         [1, 0, 0, 0, 0, 0, 0, 1],\n",
              "         [0, 1, 1, 0, 0, 1, 0, 0],\n",
              "         [0, 1, 0, 0, 0, 0, 1, 0]])),\n",
              " (0,\n",
              "  array([[0, 0, 1, 0, 0, 0, 0, 0],\n",
              "         [0, 1, 1, 1, 1, 0, 0, 1],\n",
              "         [0, 1, 1, 0, 0, 1, 0, 0],\n",
              "         [0, 0, 0, 0, 0, 0, 0, 0],\n",
              "         [0, 0, 0, 0, 0, 0, 0, 0],\n",
              "         [0, 1, 1, 0, 0, 0, 1, 1],\n",
              "         [1, 1, 0, 1, 0, 1, 0, 1],\n",
              "         [0, 0, 1, 0, 1, 0, 0, 0]]))]"
            ]
          },
          "metadata": {},
          "execution_count": 72
        }
      ]
    },
    {
      "cell_type": "code",
      "source": [
        "def select_parents(population):\n",
        "    midpoint = len(population) // 2\n",
        "    parent_options = population[:midpoint]\n",
        "    # extract indices\n",
        "    parent_indices = np.random.choice(len(parent_options), 2, replace=False)\n",
        "    # get parents using indices\n",
        "    parents = [parent_options[i] for i in parent_indices]\n",
        "    return parents"
      ],
      "metadata": {
        "id": "6nCEJpWoTxpy"
      },
      "execution_count": 73,
      "outputs": []
    },
    {
      "cell_type": "code",
      "source": [
        "select_parents(chromosones(8, 20, 12))"
      ],
      "metadata": {
        "id": "heXf0tcUVStM",
        "outputId": "3182eb4c-3d16-4fae-a7dc-a5af484adefa",
        "colab": {
          "base_uri": "https://localhost:8080/"
        }
      },
      "execution_count": 74,
      "outputs": [
        {
          "output_type": "execute_result",
          "data": {
            "text/plain": [
              "[(0,\n",
              "  array([[0, 0, 0, 0, 0, 0, 0, 0],\n",
              "         [1, 0, 0, 0, 0, 0, 0, 0],\n",
              "         [1, 0, 1, 0, 1, 1, 1, 1],\n",
              "         [0, 0, 0, 1, 1, 1, 0, 0],\n",
              "         [0, 0, 0, 1, 0, 0, 0, 1],\n",
              "         [1, 0, 0, 1, 0, 0, 0, 0],\n",
              "         [1, 0, 1, 1, 1, 0, 0, 0],\n",
              "         [0, 0, 1, 1, 0, 0, 0, 0]])),\n",
              " (0,\n",
              "  array([[0, 0, 0, 0, 1, 1, 0, 1],\n",
              "         [0, 0, 1, 0, 0, 0, 0, 0],\n",
              "         [0, 0, 0, 1, 0, 0, 0, 1],\n",
              "         [0, 1, 0, 1, 1, 1, 0, 1],\n",
              "         [0, 1, 0, 0, 0, 0, 0, 0],\n",
              "         [1, 1, 0, 1, 0, 0, 0, 0],\n",
              "         [0, 1, 0, 0, 0, 1, 0, 0],\n",
              "         [1, 0, 1, 0, 1, 0, 0, 0]]))]"
            ]
          },
          "metadata": {},
          "execution_count": 74
        }
      ]
    },
    {
      "cell_type": "code",
      "source": [
        "def mutate_or_crossover():\n",
        "    return np.random.choice(['mutate', 'crossover'], p=[0.5, 0.5])"
      ],
      "metadata": {
        "id": "oumRajvnaNPI"
      },
      "execution_count": 75,
      "outputs": []
    },
    {
      "cell_type": "code",
      "source": [
        "def max_perm(trials):\n",
        "    permanent_values = []\n",
        "    for i in range(trials):\n",
        "        matrixA = generate_matrix(8, 20)\n",
        "        matrixB = generate_matrix(8, 20)\n",
        "        if mutate_or_crossover() == 'mutate':\n",
        "            matrixA = mutation(matrixA)\n",
        "            matrixB = mutation(matrixB)\n",
        "            APerm = permRecurse(0, [False] * len(matrixA[0]), matrixA)\n",
        "            BPerm = permRecurse(0, [False] * len(matrixB[0]), matrixB)\n",
        "            if APerm > BPerm:\n",
        "                permanent_values.append((APerm, matrixA))\n",
        "            else:\n",
        "                permanent_values.append((BPerm, matrixB))\n",
        "        else:\n",
        "            matrixA, matrixB = crossover(matrixA, matrixB)\n",
        "            APerm = permRecurse(0, [False] * len(matrixA[0]), matrixA)\n",
        "            BPerm = permRecurse(0, [False] * len(matrixB[0]), matrixB)\n",
        "            if APerm > BPerm:\n",
        "                permanent_values.append((APerm, matrixA))\n",
        "            else:\n",
        "                permanent_values.append((BPerm, matrixB))\n",
        "    return max(permanent_values, key=lambda item: item[0])\n"
      ],
      "metadata": {
        "id": "EDF9v-qVVVEn"
      },
      "execution_count": 78,
      "outputs": []
    },
    {
      "cell_type": "code",
      "source": [
        "max_perm(1000)"
      ],
      "metadata": {
        "colab": {
          "base_uri": "https://localhost:8080/"
        },
        "id": "wek-qqkfbkpx",
        "outputId": "0deed9a6-b50b-41da-c438-61e96aa27b23"
      },
      "execution_count": 79,
      "outputs": [
        {
          "output_type": "execute_result",
          "data": {
            "text/plain": [
              "(12,\n",
              " array([[0, 0, 0, 0, 0, 0, 1, 1],\n",
              "        [1, 0, 1, 1, 0, 0, 1, 0],\n",
              "        [1, 1, 0, 0, 0, 1, 0, 0],\n",
              "        [0, 0, 0, 0, 1, 0, 0, 0],\n",
              "        [0, 0, 1, 1, 0, 0, 0, 0],\n",
              "        [0, 1, 0, 0, 0, 1, 1, 0],\n",
              "        [0, 0, 0, 0, 0, 1, 1, 0],\n",
              "        [1, 0, 1, 0, 0, 0, 1, 0]]))"
            ]
          },
          "metadata": {},
          "execution_count": 79
        }
      ]
    },
    {
      "cell_type": "code",
      "source": [
        "def simulation(trials):\n",
        "    permanent_values = []\n",
        "    for i in range(trials):\n",
        "        current_max = max_perm(100)\n",
        "        permanent_values.append(current_max)\n",
        "    return max(permanent_values, key=lambda item: item[0])"
      ],
      "metadata": {
        "id": "-D78BrqBb3F-"
      },
      "execution_count": 80,
      "outputs": []
    },
    {
      "cell_type": "code",
      "source": [
        "simulation(100)"
      ],
      "metadata": {
        "id": "RfQfCn1BdaDI",
        "outputId": "c7357e64-1f9b-460c-d4dd-943215a92241",
        "colab": {
          "base_uri": "https://localhost:8080/"
        }
      },
      "execution_count": 81,
      "outputs": [
        {
          "output_type": "execute_result",
          "data": {
            "text/plain": [
              "(20,\n",
              " array([[0, 0, 1, 0, 1, 0, 0, 0],\n",
              "        [0, 0, 0, 1, 0, 0, 1, 0],\n",
              "        [0, 1, 0, 1, 0, 0, 1, 0],\n",
              "        [0, 1, 0, 0, 0, 0, 0, 1],\n",
              "        [0, 1, 0, 1, 0, 0, 0, 1],\n",
              "        [0, 0, 1, 0, 1, 0, 0, 1],\n",
              "        [1, 0, 0, 0, 0, 1, 0, 0],\n",
              "        [1, 0, 0, 0, 0, 1, 0, 1]]))"
            ]
          },
          "metadata": {},
          "execution_count": 81
        }
      ]
    },
    {
      "cell_type": "code",
      "source": [],
      "metadata": {
        "id": "CAri2jSldb4P"
      },
      "execution_count": null,
      "outputs": []
    }
  ]
}