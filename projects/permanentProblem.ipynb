{
  "nbformat": 4,
  "nbformat_minor": 0,
  "metadata": {
    "colab": {
      "provenance": [],
      "authorship_tag": "ABX9TyNv7E/vixpiiyF5ytB30bOq",
      "include_colab_link": true
    },
    "kernelspec": {
      "name": "python3",
      "display_name": "Python 3"
    },
    "language_info": {
      "name": "python"
    }
  },
  "cells": [
    {
      "cell_type": "markdown",
      "metadata": {
        "id": "view-in-github",
        "colab_type": "text"
      },
      "source": [
        "<a href=\"https://colab.research.google.com/github/michaeledge27/mathModeling/blob/main/projects/permanentProblem.ipynb\" target=\"_parent\"><img src=\"https://colab.research.google.com/assets/colab-badge.svg\" alt=\"Open In Colab\"/></a>"
      ]
    },
    {
      "cell_type": "code",
      "execution_count": 1,
      "metadata": {
        "id": "MZbwJU-GKJrY"
      },
      "outputs": [],
      "source": [
        "import numpy as np"
      ]
    },
    {
      "cell_type": "code",
      "source": [
        "def permRecurse(row, used, mat):\n",
        "    N = len(mat[0])\n",
        "    v = 0\n",
        "    if row == N:\n",
        "        return 1\n",
        "    else:\n",
        "      for j in range(N):\n",
        "        if (not used[j] and mat[row][j] != 0):\n",
        "          used[j] = True\n",
        "          v += permRecurse(row + 1, used, mat)\n",
        "          used[j] = False\n",
        "      return v"
      ],
      "metadata": {
        "id": "5hmd20xTKmOc"
      },
      "execution_count": 2,
      "outputs": []
    },
    {
      "cell_type": "code",
      "source": [
        "def generateRandomMatrix(n, m):\n",
        "    return np.random.randint(2, size=(n, m))"
      ],
      "metadata": {
        "id": "sshAJEHNLkYU"
      },
      "execution_count": 4,
      "outputs": []
    },
    {
      "cell_type": "code",
      "source": [
        "mat = [[1, 1, 0],\n",
        "       [1, 1, 0],\n",
        "       [0, 0, 1]]\n",
        "N = len(mat[0])\n",
        "used = [False] * N\n",
        "v = permRecurse(0, used, mat)\n",
        "print(v)"
      ],
      "metadata": {
        "colab": {
          "base_uri": "https://localhost:8080/"
        },
        "id": "4UvxttoKLEnr",
        "outputId": "7c3ec8ab-b188-4462-debc-2f2b307e92ca"
      },
      "execution_count": 3,
      "outputs": [
        {
          "output_type": "stream",
          "name": "stdout",
          "text": [
            "2\n"
          ]
        }
      ]
    },
    {
      "cell_type": "code",
      "source": [
        "generateRandomMatrix(8, 20)"
      ],
      "metadata": {
        "colab": {
          "base_uri": "https://localhost:8080/"
        },
        "id": "7q55JOsfLVsk",
        "outputId": "69af3c09-aff2-4f26-a67d-34ae630572f6"
      },
      "execution_count": 5,
      "outputs": [
        {
          "output_type": "execute_result",
          "data": {
            "text/plain": [
              "array([[0, 1, 1, 0, 1, 1, 1, 1, 1, 0, 0, 0, 1, 1, 0, 0, 1, 1, 1, 0],\n",
              "       [0, 0, 1, 1, 0, 0, 1, 1, 1, 0, 0, 0, 0, 1, 0, 0, 0, 0, 1, 0],\n",
              "       [0, 1, 1, 0, 1, 1, 1, 0, 1, 1, 0, 0, 0, 1, 0, 1, 1, 1, 0, 0],\n",
              "       [0, 1, 1, 0, 1, 1, 0, 1, 0, 1, 1, 0, 0, 1, 1, 0, 0, 0, 1, 1],\n",
              "       [0, 1, 0, 0, 1, 0, 1, 0, 0, 1, 0, 0, 1, 0, 1, 1, 1, 0, 0, 1],\n",
              "       [0, 1, 1, 0, 0, 1, 1, 0, 1, 0, 1, 0, 0, 1, 0, 0, 1, 1, 0, 0],\n",
              "       [0, 0, 0, 1, 0, 0, 1, 1, 1, 1, 1, 0, 0, 0, 1, 1, 0, 1, 1, 1],\n",
              "       [0, 0, 0, 0, 1, 0, 0, 0, 1, 0, 0, 0, 1, 1, 0, 1, 0, 1, 1, 0]])"
            ]
          },
          "metadata": {},
          "execution_count": 5
        }
      ]
    },
    {
      "cell_type": "code",
      "source": [],
      "metadata": {
        "id": "xvGpnUobLxIr"
      },
      "execution_count": null,
      "outputs": []
    }
  ]
}