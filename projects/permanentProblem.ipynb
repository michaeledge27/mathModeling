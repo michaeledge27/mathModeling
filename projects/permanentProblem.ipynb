{
  "nbformat": 4,
  "nbformat_minor": 0,
  "metadata": {
    "colab": {
      "provenance": [],
      "include_colab_link": true
    },
    "kernelspec": {
      "name": "python3",
      "display_name": "Python 3"
    },
    "language_info": {
      "name": "python"
    }
  },
  "cells": [
    {
      "cell_type": "markdown",
      "metadata": {
        "id": "view-in-github",
        "colab_type": "text"
      },
      "source": [
        "<a href=\"https://colab.research.google.com/github/michaeledge27/mathModeling/blob/main/projects/permanentProblem.ipynb\" target=\"_parent\"><img src=\"https://colab.research.google.com/assets/colab-badge.svg\" alt=\"Open In Colab\"/></a>"
      ]
    },
    {
      "cell_type": "code",
      "execution_count": 40,
      "metadata": {
        "id": "MZbwJU-GKJrY"
      },
      "outputs": [],
      "source": [
        "import numpy as np"
      ]
    },
    {
      "cell_type": "code",
      "source": [
        "def permRecurse(row, used, mat):\n",
        "    N = len(mat[0])\n",
        "    v = 0\n",
        "    if row == N:\n",
        "        return 1\n",
        "    else:\n",
        "      for j in range(N):\n",
        "        if (not used[j] and mat[row][j] != 0):\n",
        "          used[j] = True\n",
        "          v += permRecurse(row + 1, used, mat)\n",
        "          used[j] = False\n",
        "      return v"
      ],
      "metadata": {
        "id": "5hmd20xTKmOc"
      },
      "execution_count": 41,
      "outputs": []
    },
    {
      "cell_type": "code",
      "source": [
        "# return the number of ones in a given matrix\n",
        "def onesCount(matrix):\n",
        "    return np.count_nonzero(matrix)"
      ],
      "metadata": {
        "id": "mSmV345KMJdw"
      },
      "execution_count": 42,
      "outputs": []
    },
    {
      "cell_type": "code",
      "source": [
        "def generate_matrix(n: int, m: int):\n",
        "    # generate nxn matrix with all 0's\n",
        "    matrix = np.zeros((n, n), dtype=int)\n",
        "    options = n**2\n",
        "    # randomly select m unique indices from the n**2 options\n",
        "    indices = np.random.choice(options, m, replace=False)\n",
        "    # replace the selected elements of the 0's matrix with 1's\n",
        "    np.put(matrix, indices, 1)\n",
        "    return matrix"
      ],
      "metadata": {
        "id": "iuiBBXbAQgMf"
      },
      "execution_count": 43,
      "outputs": []
    },
    {
      "cell_type": "code",
      "source": [
        "def chromosones(n: int, m: int, population: int):\n",
        "    # create a list of chromosones (nxn 0/1 matrices having m 1's)\n",
        "    total_population = []\n",
        "    # generate the population size # of chromosones\n",
        "    for i in range(population):\n",
        "        # generate nxn matrix with m 1's\n",
        "        matrix = generate_matrix(n, m)\n",
        "        total_population.append(matrix)\n",
        "    # return population\n",
        "    return total_population"
      ],
      "metadata": {
        "id": "TGsSt233frGX"
      },
      "execution_count": 44,
      "outputs": []
    },
    {
      "cell_type": "code",
      "source": [
        "population = chromosones(8, 20, 3)\n",
        "population[0]\n"
      ],
      "metadata": {
        "id": "U38detLUgYRT",
        "outputId": "f6e921da-3573-44b8-adfd-3f10b8509ef2",
        "colab": {
          "base_uri": "https://localhost:8080/"
        }
      },
      "execution_count": 45,
      "outputs": [
        {
          "output_type": "execute_result",
          "data": {
            "text/plain": [
              "array([[0, 0, 0, 1, 0, 0, 0, 1],\n",
              "       [0, 1, 0, 0, 1, 0, 0, 0],\n",
              "       [0, 0, 0, 0, 0, 1, 1, 0],\n",
              "       [0, 1, 1, 0, 0, 0, 1, 0],\n",
              "       [0, 1, 0, 0, 1, 1, 1, 1],\n",
              "       [0, 0, 0, 1, 0, 0, 0, 1],\n",
              "       [0, 1, 0, 0, 0, 1, 0, 0],\n",
              "       [0, 1, 1, 0, 0, 0, 0, 0]])"
            ]
          },
          "metadata": {},
          "execution_count": 45
        }
      ]
    },
    {
      "cell_type": "code",
      "source": [
        "population[0][1]"
      ],
      "metadata": {
        "id": "xGwdVX7RimSs",
        "outputId": "a6962315-e6d0-4c8e-df4d-a4024e48ba78",
        "colab": {
          "base_uri": "https://localhost:8080/"
        }
      },
      "execution_count": 46,
      "outputs": [
        {
          "output_type": "execute_result",
          "data": {
            "text/plain": [
              "array([0, 1, 0, 0, 1, 0, 0, 0])"
            ]
          },
          "metadata": {},
          "execution_count": 46
        }
      ]
    },
    {
      "cell_type": "code",
      "source": [
        "def fitness_function(matrix):\n",
        "    return permRecurse(row=0, used=[False] * len(matrix[0]), mat=matrix)"
      ],
      "metadata": {
        "id": "ODXpGiIbhiGY"
      },
      "execution_count": 47,
      "outputs": []
    },
    {
      "cell_type": "code",
      "source": [
        "fitness_function(population[0])"
      ],
      "metadata": {
        "id": "D5b4OjRfmCRh",
        "outputId": "4e5d381f-3815-4abb-ce54-5c932196a8c6",
        "colab": {
          "base_uri": "https://localhost:8080/"
        }
      },
      "execution_count": 48,
      "outputs": [
        {
          "output_type": "execute_result",
          "data": {
            "text/plain": [
              "0"
            ]
          },
          "metadata": {},
          "execution_count": 48
        }
      ]
    },
    {
      "cell_type": "code",
      "source": [
        "def pick_direction(i, j):\n",
        "    direction = np.random.choice(['north', 'south', 'east', 'west'])\n",
        "    if direction == 'north':\n",
        "        i -= 1\n",
        "    elif direction == 'south':\n",
        "        i += 1\n",
        "    elif direction == 'east':\n",
        "        j += 1\n",
        "    elif direction == 'west':\n",
        "        j -= 1\n",
        "    return i, j"
      ],
      "metadata": {
        "id": "dc3n3XJtiFOA"
      },
      "execution_count": 49,
      "outputs": []
    },
    {
      "cell_type": "code",
      "source": [
        "pick_direction(1, 1)"
      ],
      "metadata": {
        "id": "LqoS5utwmGi_",
        "outputId": "a75fbe25-b408-45cd-d583-9e64c981e34a",
        "colab": {
          "base_uri": "https://localhost:8080/"
        }
      },
      "execution_count": 50,
      "outputs": [
        {
          "output_type": "execute_result",
          "data": {
            "text/plain": [
              "(1, 0)"
            ]
          },
          "metadata": {},
          "execution_count": 50
        }
      ]
    },
    {
      "cell_type": "code",
      "source": [
        "def select_element(matrix):\n",
        "    i = np.random.randint(0, len(matrix))\n",
        "    j = np.random.randint(0, len(matrix[0]))\n",
        "    return i, j"
      ],
      "metadata": {
        "id": "3nxT-Ic1jB5X"
      },
      "execution_count": 51,
      "outputs": []
    },
    {
      "cell_type": "code",
      "source": [
        "select_element(population[0])"
      ],
      "metadata": {
        "id": "E07Cy-kWmKcJ",
        "outputId": "fdce7fa0-00a7-4620-b999-e62c665b6ed8",
        "colab": {
          "base_uri": "https://localhost:8080/"
        }
      },
      "execution_count": 52,
      "outputs": [
        {
          "output_type": "execute_result",
          "data": {
            "text/plain": [
              "(3, 1)"
            ]
          },
          "metadata": {},
          "execution_count": 52
        }
      ]
    },
    {
      "cell_type": "code",
      "source": [
        "def check_same(element, new_element):\n",
        "    return element == new_element"
      ],
      "metadata": {
        "id": "XP6l8_E4jQmf"
      },
      "execution_count": 53,
      "outputs": []
    },
    {
      "cell_type": "code",
      "source": [
        "check_same(2, 2)"
      ],
      "metadata": {
        "colab": {
          "base_uri": "https://localhost:8080/"
        },
        "id": "VsYIS3y027zI",
        "outputId": "33c58305-cb91-4995-8d88-9dcae58ad896"
      },
      "execution_count": 54,
      "outputs": [
        {
          "output_type": "execute_result",
          "data": {
            "text/plain": [
              "True"
            ]
          },
          "metadata": {},
          "execution_count": 54
        }
      ]
    },
    {
      "cell_type": "code",
      "source": [
        "check_same(2, 4)"
      ],
      "metadata": {
        "id": "7BdKmNDqmQYG",
        "outputId": "268b2e9f-1058-4ee6-ccd9-6fe36dcd380a",
        "colab": {
          "base_uri": "https://localhost:8080/"
        }
      },
      "execution_count": 55,
      "outputs": [
        {
          "output_type": "execute_result",
          "data": {
            "text/plain": [
              "False"
            ]
          },
          "metadata": {},
          "execution_count": 55
        }
      ]
    },
    {
      "cell_type": "code",
      "source": [
        "# return false if at least one of the NSEW neighbors is different\n",
        "def check_all_neighbors(matrix, i, j):\n",
        "    return matrix[i][j] == matrix[i-1][j] and matrix[i][j] == matrix[i+1][j] and matrix[i][j] == matrix[i][j-1] and matrix[i][j] == matrix[i][j+1]\n"
      ],
      "metadata": {
        "id": "BqSdtZpljblZ"
      },
      "execution_count": 56,
      "outputs": []
    },
    {
      "cell_type": "code",
      "source": [
        "check_all_neighbors(population[0], 0, 0)"
      ],
      "metadata": {
        "id": "WhS-ixYNmUQh",
        "outputId": "f6546266-3482-463b-b643-40b8d4ee2583",
        "colab": {
          "base_uri": "https://localhost:8080/"
        }
      },
      "execution_count": 57,
      "outputs": [
        {
          "output_type": "execute_result",
          "data": {
            "text/plain": [
              "False"
            ]
          },
          "metadata": {},
          "execution_count": 57
        }
      ]
    },
    {
      "cell_type": "code",
      "source": [
        "check_all_neighbors(population[0], 5, 2)"
      ],
      "metadata": {
        "id": "DqDQLBQqmpn-",
        "outputId": "4ccae4e1-92a8-4bd1-fca4-0ef4eaabd052",
        "colab": {
          "base_uri": "https://localhost:8080/"
        }
      },
      "execution_count": 58,
      "outputs": [
        {
          "output_type": "execute_result",
          "data": {
            "text/plain": [
              "False"
            ]
          },
          "metadata": {},
          "execution_count": 58
        }
      ]
    },
    {
      "cell_type": "code",
      "source": [
        "def perform_swap(matrixA, i, j, new_i, new_j):\n",
        "    matrixA[i][j], matrixA[new_i][new_j] = matrixA[new_i][new_j], matrixA[i][j]\n",
        "    return matrixA\n"
      ],
      "metadata": {
        "id": "DP0Twa7qkhR0"
      },
      "execution_count": 59,
      "outputs": []
    },
    {
      "cell_type": "code",
      "source": [
        "def wraparound_swap(matrixA, i, j, new_i, new_j):\n",
        "    if new_i < 0:\n",
        "        new_i = len(matrixA) - 1\n",
        "    elif new_i >= len(matrixA):\n",
        "        new_i = 0\n",
        "\n",
        "    if new_j < 0:\n",
        "        new_j = len(matrixA[0]) - 1\n",
        "    elif new_j >= len(matrixA[0]):\n",
        "        new_j = 0\n",
        "\n",
        "    matrixA[i][j], matrixA[new_i][new_j] = matrixA[new_i][new_j], matrixA[i][j]\n",
        "    return matrixA"
      ],
      "metadata": {
        "id": "DoRNYKEb6yan"
      },
      "execution_count": 68,
      "outputs": []
    },
    {
      "cell_type": "code",
      "source": [
        "def mutation(matrixA, matrixB):\n",
        "    i, j = select_element(matrix)\n",
        "    if check_all_neighbors(matrix, i, j):\n",
        "        return matrix\n",
        "    else:\n",
        "        new_i, new_j = pick_direction(i, j)\n",
        "        if check_same(i, new_i) and check_same(j, new_j):\n",
        "            return matrix\n",
        "        elif new_i < 0 or new_i >= len(matrix) or new_j < 0 or new_j >= len(matrix[0]):\n",
        "            return wraparound_swap(matrix, i, j, new_i, new_j)\n",
        "        else:\n",
        "            return perform_swap(matrix, i, j, new_i, new_j)\n"
      ],
      "metadata": {
        "id": "kVI2Pa0qhxQI"
      },
      "execution_count": 69,
      "outputs": []
    },
    {
      "cell_type": "code",
      "source": [],
      "metadata": {
        "id": "DasO6sDN7yMK"
      },
      "execution_count": null,
      "outputs": []
    },
    {
      "cell_type": "code",
      "source": [
        "mat = [[1, 1, 0],\n",
        "       [1, 1, 0],\n",
        "       [0, 0, 1]]\n",
        "N = len(mat[0])\n",
        "used = [False] * N\n",
        "v = permRecurse(0, used, mat)\n",
        "print(v)"
      ],
      "metadata": {
        "colab": {
          "base_uri": "https://localhost:8080/"
        },
        "id": "4UvxttoKLEnr",
        "outputId": "1744af60-b41a-489c-ca08-da8d80ca09c1"
      },
      "execution_count": 61,
      "outputs": [
        {
          "output_type": "stream",
          "name": "stdout",
          "text": [
            "2\n"
          ]
        }
      ]
    },
    {
      "cell_type": "code",
      "source": [
        "matrix = generate_matrix(8, 20)\n",
        "matrix"
      ],
      "metadata": {
        "colab": {
          "base_uri": "https://localhost:8080/"
        },
        "id": "tz8_D4GHQi2-",
        "outputId": "fc01eb5f-28fc-4111-f604-052042941ffa"
      },
      "execution_count": 62,
      "outputs": [
        {
          "output_type": "execute_result",
          "data": {
            "text/plain": [
              "array([[0, 0, 1, 0, 0, 0, 1, 1],\n",
              "       [0, 1, 0, 0, 0, 0, 0, 0],\n",
              "       [0, 0, 1, 0, 1, 0, 0, 0],\n",
              "       [0, 1, 1, 1, 1, 0, 0, 1],\n",
              "       [0, 0, 0, 0, 0, 0, 1, 1],\n",
              "       [0, 0, 0, 0, 0, 0, 0, 0],\n",
              "       [0, 1, 0, 1, 1, 1, 0, 0],\n",
              "       [0, 1, 0, 0, 0, 1, 0, 1]])"
            ]
          },
          "metadata": {},
          "execution_count": 62
        }
      ]
    },
    {
      "cell_type": "code",
      "source": [
        "N = len(matrix[0])\n",
        "used = [False] * N\n",
        "v = permRecurse(0, used, matrix)\n",
        "print(v)"
      ],
      "metadata": {
        "colab": {
          "base_uri": "https://localhost:8080/"
        },
        "id": "alzbbYofQk4c",
        "outputId": "84762a5f-8cc9-4800-cf75-b96749c751a2"
      },
      "execution_count": 63,
      "outputs": [
        {
          "output_type": "stream",
          "name": "stdout",
          "text": [
            "0\n"
          ]
        }
      ]
    },
    {
      "cell_type": "code",
      "source": [
        "def calculate_max_perm(n, m, trials):\n",
        "  permanents = []\n",
        "  for i in range(trials):\n",
        "    matrix = generate_matrix(n, m)\n",
        "    N = len(matrix[0])\n",
        "    used = [False] * N\n",
        "    v = permRecurse(0, used, matrix)\n",
        "    permanents.append(v)\n",
        "  return max(permanents)\n"
      ],
      "metadata": {
        "id": "B6bGcA9uQuzu"
      },
      "execution_count": 64,
      "outputs": []
    },
    {
      "cell_type": "code",
      "source": [
        "calculate_max_perm(8, 20, 1000)"
      ],
      "metadata": {
        "colab": {
          "base_uri": "https://localhost:8080/"
        },
        "id": "akr31-oVSPdH",
        "outputId": "69402a38-9943-40ff-89d7-b6e9db691ddc"
      },
      "execution_count": 65,
      "outputs": [
        {
          "output_type": "execute_result",
          "data": {
            "text/plain": [
              "13"
            ]
          },
          "metadata": {},
          "execution_count": 65
        }
      ]
    },
    {
      "cell_type": "code",
      "source": [],
      "metadata": {
        "id": "DFKPXMBlSUgZ"
      },
      "execution_count": 65,
      "outputs": []
    }
  ]
}