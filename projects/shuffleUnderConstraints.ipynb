{
  "nbformat": 4,
  "nbformat_minor": 0,
  "metadata": {
    "colab": {
      "provenance": [],
      "authorship_tag": "ABX9TyNF7ayuilwUSaGzkLwv2O2K",
      "include_colab_link": true
    },
    "kernelspec": {
      "name": "python3",
      "display_name": "Python 3"
    },
    "language_info": {
      "name": "python"
    }
  },
  "cells": [
    {
      "cell_type": "markdown",
      "metadata": {
        "id": "view-in-github",
        "colab_type": "text"
      },
      "source": [
        "<a href=\"https://colab.research.google.com/github/michaeledge27/mathModeling/blob/main/projects/shuffleUnderConstraints.ipynb\" target=\"_parent\"><img src=\"https://colab.research.google.com/assets/colab-badge.svg\" alt=\"Open In Colab\"/></a>"
      ]
    },
    {
      "cell_type": "code",
      "source": [
        "import random\n",
        "import matplotlib.pyplot as plt"
      ],
      "metadata": {
        "id": "JuUQ3JXvU4tt"
      },
      "execution_count": 199,
      "outputs": []
    },
    {
      "cell_type": "code",
      "source": [
        "def initializeCards():\n",
        "    clubs = [\"club.2\", \"club.3\", \"club.4\", \"club.5\", \"club.6\"]\n",
        "    diamonds = [\"diamond.2\", \"diamond.3\", \"diamond.4\", \"diamond.5\", \"diamond.6\"]\n",
        "    hearts = [\"heart.2\", \"heart.3\", \"heart.4\", \"heart.5\", \"heart.6\"]\n",
        "    spades = [\"spade.2\", \"spade.3\", \"spade.4\"]\n",
        "    return clubs, diamonds, hearts, spades"
      ],
      "metadata": {
        "id": "roNg6iv0U65u"
      },
      "execution_count": 200,
      "outputs": []
    },
    {
      "cell_type": "code",
      "source": [
        "def draw_card(suit, player_list):\n",
        "    \"\"\"Draw a card from the specified suit and add it to the player's list.\"\"\"\n",
        "    if suit:  # Check if the suit is not empty\n",
        "        card = suit.pop(random.randint(0, len(suit) - 1))\n",
        "        player_list.append(card)"
      ],
      "metadata": {
        "id": "dPC-MkEVVMYs"
      },
      "execution_count": 201,
      "outputs": []
    },
    {
      "cell_type": "code",
      "source": [
        "clubs = [\"club.2\", \"club.3\", \"club.4\", \"club.5\", \"club.6\"]\n",
        "diamonds = [\"diamond.2\", \"diamond.3\", \"diamond.4\", \"diamond.5\", \"diamond.6\"]\n",
        "hearts = [\"heart.2\", \"heart.3\", \"heart.4\", \"heart.5\", \"heart.6\"]\n",
        "spades = [\"spade.2\", \"spade.3\", \"spade.4\"]\n",
        "west_cards = hearts + diamonds\n",
        "north_cards = clubs + spades + diamonds\n",
        "east_cards = clubs + hearts\n",
        "all_cards = west_cards + north_cards + east_cards"
      ],
      "metadata": {
        "id": "_9vOpn6yZe1x"
      },
      "execution_count": 202,
      "outputs": []
    },
    {
      "cell_type": "code",
      "source": [
        "club_spade_positions = [0, 3, 6, 9, 12, 15]      # No clubs or spades\n",
        "heart_positions = [1, 4, 7, 10, 13]          # No hearts\n",
        "diamond_spade_positions = [2, 5, 8, 11, 14, 17]  # No diamonds or spades"
      ],
      "metadata": {
        "id": "yRqLgsBVbtc7"
      },
      "execution_count": 203,
      "outputs": []
    },
    {
      "cell_type": "code",
      "source": [
        "# Function to check if an allocation is legal\n",
        "def is_legal_allocation(positions):\n",
        "    for i in club_spade_positions:\n",
        "        if 'club' in positions[i] or 'spade' in positions[i]:\n",
        "            return False\n",
        "    for i in heart_positions:\n",
        "        if 'heart' in positions[i]:\n",
        "            return False\n",
        "    for i in diamond_spade_positions:\n",
        "        if 'diamond' in positions[i] or 'spade' in positions[i]:\n",
        "            return False\n",
        "    return True"
      ],
      "metadata": {
        "id": "Hf-VpUV6aINI"
      },
      "execution_count": 204,
      "outputs": []
    },
    {
      "cell_type": "code",
      "source": [
        "def legal_allocation():\n",
        "    while True:\n",
        "        random.shuffle(all_cards)\n",
        "        if is_legal_allocation(all_cards):\n",
        "            return all_cards[:]"
      ],
      "metadata": {
        "id": "vEcii282cRnh"
      },
      "execution_count": 205,
      "outputs": []
    },
    {
      "cell_type": "code",
      "source": [
        "def iterate_a_lot(n):\n",
        "    all_allocations = {}\n",
        "    for i in range(n):\n",
        "        all_allocations[i] = legal_allocation()\n",
        "    return all_allocations"
      ],
      "metadata": {
        "id": "qsfPorYDdGLj"
      },
      "execution_count": 207,
      "outputs": []
    },
    {
      "cell_type": "code",
      "source": [],
      "metadata": {
        "colab": {
          "base_uri": "https://localhost:8080/"
        },
        "id": "RJESqRSXdb5O",
        "outputId": "74ddd087-bfe4-44e4-c80b-850d9d497437"
      },
      "execution_count": 209,
      "outputs": [
        {
          "output_type": "execute_result",
          "data": {
            "text/plain": [
              "{0: ['heart.6',\n",
              "  'diamond.4',\n",
              "  'heart.2',\n",
              "  'diamond.6',\n",
              "  'club.4',\n",
              "  'heart.5',\n",
              "  'heart.2',\n",
              "  'diamond.6',\n",
              "  'club.4',\n",
              "  'diamond.5',\n",
              "  'diamond.3',\n",
              "  'club.6',\n",
              "  'heart.3',\n",
              "  'diamond.2',\n",
              "  'club.6',\n",
              "  'heart.4',\n",
              "  'club.2',\n",
              "  'club.5',\n",
              "  'heart.5',\n",
              "  'spade.2',\n",
              "  'club.3',\n",
              "  'spade.3',\n",
              "  'club.3',\n",
              "  'diamond.5',\n",
              "  'heart.6',\n",
              "  'club.5',\n",
              "  'diamond.4',\n",
              "  'club.2',\n",
              "  'diamond.2',\n",
              "  'heart.3',\n",
              "  'heart.4',\n",
              "  'spade.4',\n",
              "  'diamond.3'],\n",
              " 1: ['heart.6',\n",
              "  'spade.4',\n",
              "  'heart.2',\n",
              "  'diamond.3',\n",
              "  'club.3',\n",
              "  'club.4',\n",
              "  'diamond.4',\n",
              "  'club.3',\n",
              "  'club.6',\n",
              "  'diamond.5',\n",
              "  'diamond.5',\n",
              "  'club.2',\n",
              "  'heart.2',\n",
              "  'diamond.3',\n",
              "  'heart.5',\n",
              "  'diamond.4',\n",
              "  'heart.4',\n",
              "  'heart.5',\n",
              "  'club.2',\n",
              "  'spade.3',\n",
              "  'heart.3',\n",
              "  'heart.6',\n",
              "  'club.6',\n",
              "  'heart.3',\n",
              "  'spade.2',\n",
              "  'diamond.6',\n",
              "  'heart.4',\n",
              "  'diamond.6',\n",
              "  'club.5',\n",
              "  'diamond.2',\n",
              "  'club.4',\n",
              "  'club.5',\n",
              "  'diamond.2']}"
            ]
          },
          "metadata": {},
          "execution_count": 209
        }
      ]
    },
    {
      "cell_type": "code",
      "source": [
        "legal_allocation()"
      ],
      "metadata": {
        "colab": {
          "base_uri": "https://localhost:8080/"
        },
        "id": "_nR0nvK2cXy4",
        "outputId": "9a097435-119f-4b01-fee2-855ebecb8db7"
      },
      "execution_count": 206,
      "outputs": [
        {
          "output_type": "execute_result",
          "data": {
            "text/plain": [
              "['diamond.4',\n",
              " 'club.3',\n",
              " 'heart.5',\n",
              " 'heart.3',\n",
              " 'spade.3',\n",
              " 'club.6',\n",
              " 'diamond.6',\n",
              " 'club.2',\n",
              " 'club.6',\n",
              " 'heart.5',\n",
              " 'club.4',\n",
              " 'heart.2',\n",
              " 'heart.6',\n",
              " 'diamond.3',\n",
              " 'heart.4',\n",
              " 'heart.3',\n",
              " 'club.2',\n",
              " 'heart.4',\n",
              " 'diamond.6',\n",
              " 'spade.4',\n",
              " 'diamond.2',\n",
              " 'club.3',\n",
              " 'club.5',\n",
              " 'diamond.3',\n",
              " 'diamond.5',\n",
              " 'heart.2',\n",
              " 'club.5',\n",
              " 'heart.6',\n",
              " 'club.4',\n",
              " 'diamond.4',\n",
              " 'diamond.2',\n",
              " 'diamond.5',\n",
              " 'spade.2']"
            ]
          },
          "metadata": {},
          "execution_count": 206
        }
      ]
    },
    {
      "cell_type": "code",
      "source": [],
      "metadata": {
        "id": "h3_QdShQXk9O"
      },
      "execution_count": 142,
      "outputs": []
    }
  ]
}