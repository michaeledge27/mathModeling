{
  "nbformat": 4,
  "nbformat_minor": 0,
  "metadata": {
    "colab": {
      "provenance": [],
      "authorship_tag": "ABX9TyOrRnmsv3eAri4Odpo7Ohve",
      "include_colab_link": true
    },
    "kernelspec": {
      "name": "python3",
      "display_name": "Python 3"
    },
    "language_info": {
      "name": "python"
    }
  },
  "cells": [
    {
      "cell_type": "markdown",
      "metadata": {
        "id": "view-in-github",
        "colab_type": "text"
      },
      "source": [
        "<a href=\"https://colab.research.google.com/github/michaeledge27/mathModeling/blob/main/notebooks/georgeTest.ipynb\" target=\"_parent\"><img src=\"https://colab.research.google.com/assets/colab-badge.svg\" alt=\"Open In Colab\"/></a>"
      ]
    },
    {
      "cell_type": "code",
      "execution_count": 129,
      "metadata": {
        "id": "wk0xgKLOsOYw"
      },
      "outputs": [],
      "source": [
        "import numpy as np\n",
        "import random"
      ]
    },
    {
      "cell_type": "code",
      "source": [
        "def spin_wheel():\n",
        "    number = random.randint(0, 36)\n",
        "    if number <= 15:\n",
        "        return 15/100\n",
        "    else:\n",
        "        return number/100"
      ],
      "metadata": {
        "id": "uPuky6MWsmoA"
      },
      "execution_count": 130,
      "outputs": []
    },
    {
      "cell_type": "code",
      "source": [
        "spin_wheel()"
      ],
      "metadata": {
        "colab": {
          "base_uri": "https://localhost:8080/"
        },
        "id": "yAiVAJjSuL2c",
        "outputId": "ef104672-f43b-4575-8f81-e44c07d02ed2"
      },
      "execution_count": 131,
      "outputs": [
        {
          "output_type": "execute_result",
          "data": {
            "text/plain": [
              "0.34"
            ]
          },
          "metadata": {},
          "execution_count": 131
        }
      ]
    },
    {
      "cell_type": "code",
      "source": [
        "def item_prices(n):\n",
        "    item_prices = []\n",
        "    for i in range(n):\n",
        "        item_prices.append(random.randint(100, 300))\n",
        "    return item_prices"
      ],
      "metadata": {
        "id": "IyC8l6S4sy_V"
      },
      "execution_count": 132,
      "outputs": []
    },
    {
      "cell_type": "code",
      "source": [
        "items = item_prices(5)\n",
        "items\n",
        "total = 197 + 246 + 275 + 286 + 225\n",
        "total"
      ],
      "metadata": {
        "colab": {
          "base_uri": "https://localhost:8080/"
        },
        "id": "we4n2cwrtkaL",
        "outputId": "5f595ec2-29ef-4624-ddc5-2157470c4f86"
      },
      "execution_count": 133,
      "outputs": [
        {
          "output_type": "execute_result",
          "data": {
            "text/plain": [
              "1229"
            ]
          },
          "metadata": {},
          "execution_count": 133
        }
      ]
    },
    {
      "cell_type": "code",
      "source": [
        "payments = []\n",
        "percent_offs = []\n",
        "for i in range(5000):\n",
        "    percent_off = 1 - spin_wheel()\n",
        "    percent_offs.append(percent_off)\n",
        "    new_items = []\n",
        "    for item in items:\n",
        "        new_items.append(item * percent_off)\n",
        "    payments.append(sum(new_items))\n"
      ],
      "metadata": {
        "id": "KE81GezGtNfy"
      },
      "execution_count": 134,
      "outputs": []
    },
    {
      "cell_type": "code",
      "source": [
        "1- np.mean(percent_offs)"
      ],
      "metadata": {
        "colab": {
          "base_uri": "https://localhost:8080/"
        },
        "id": "fx51sThPwgAJ",
        "outputId": "effc582a-3713-4c19-804c-18d0c8f885c4"
      },
      "execution_count": 135,
      "outputs": [
        {
          "output_type": "execute_result",
          "data": {
            "text/plain": [
              "0.21247399999999994"
            ]
          },
          "metadata": {},
          "execution_count": 135
        }
      ]
    },
    {
      "cell_type": "code",
      "source": [
        "np.mean(payments)"
      ],
      "metadata": {
        "colab": {
          "base_uri": "https://localhost:8080/"
        },
        "id": "GNQdEHh-t_3O",
        "outputId": "65eeb63d-f930-490b-d903-41982c9f406b"
      },
      "execution_count": 136,
      "outputs": [
        {
          "output_type": "execute_result",
          "data": {
            "text/plain": [
              "766.2627980000001"
            ]
          },
          "metadata": {},
          "execution_count": 136
        }
      ]
    },
    {
      "cell_type": "code",
      "source": [
        "payments = []\n",
        "percent_offs = []\n",
        "for i in range(5000):\n",
        "    percent_off = 1 - spin_wheel()\n",
        "    percent_offs.append(percent_off)\n",
        "    payments.append(total * percent_off)"
      ],
      "metadata": {
        "id": "0uPiuXnMui7N"
      },
      "execution_count": 137,
      "outputs": []
    },
    {
      "cell_type": "code",
      "source": [
        "np.mean(payments)"
      ],
      "metadata": {
        "colab": {
          "base_uri": "https://localhost:8080/"
        },
        "id": "3THURR_ouxxd",
        "outputId": "6106dfa7-229c-4603-caf8-ef8d00a2769f"
      },
      "execution_count": 138,
      "outputs": [
        {
          "output_type": "execute_result",
          "data": {
            "text/plain": [
              "966.0087480000001"
            ]
          },
          "metadata": {},
          "execution_count": 138
        }
      ]
    },
    {
      "cell_type": "code",
      "source": [],
      "metadata": {
        "id": "8Cp9W7kJvQlv"
      },
      "execution_count": 138,
      "outputs": []
    }
  ]
}